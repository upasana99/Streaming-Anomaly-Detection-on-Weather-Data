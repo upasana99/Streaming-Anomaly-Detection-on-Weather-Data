{
 "cells": [
  {
   "cell_type": "markdown",
   "metadata": {},
   "source": [
    "# **Assignment 4: PySpark Structured Streaming Using Kafka Source**"
   ]
  },
  {
   "cell_type": "code",
   "execution_count": 1,
   "metadata": {},
   "outputs": [
    {
     "ename": "TypeError",
     "evalue": "an integer is required (got type bytes)",
     "output_type": "error",
     "traceback": [
      "\u001b[0;31m---------------------------------------------------------------------------\u001b[0m",
      "\u001b[0;31mTypeError\u001b[0m                                 Traceback (most recent call last)",
      "Cell \u001b[0;32mIn[1], line 1\u001b[0m\n\u001b[0;32m----> 1\u001b[0m \u001b[38;5;28;01mfrom\u001b[39;00m \u001b[38;5;21;01mpyspark\u001b[39;00m\u001b[38;5;21;01m.\u001b[39;00m\u001b[38;5;21;01msql\u001b[39;00m \u001b[38;5;28;01mimport\u001b[39;00m SparkSession\n\u001b[1;32m      3\u001b[0m spark \u001b[38;5;241m=\u001b[39m SparkSession\u001b[38;5;241m.\u001b[39m\\\n\u001b[1;32m      4\u001b[0m         builder\u001b[38;5;241m.\u001b[39m\\\n\u001b[1;32m      5\u001b[0m         appName(\u001b[38;5;124m\"\u001b[39m\u001b[38;5;124mpyspark-kafka-streaming\u001b[39m\u001b[38;5;124m\"\u001b[39m)\u001b[38;5;241m.\u001b[39m\\\n\u001b[0;32m   (...)\u001b[0m\n\u001b[1;32m      8\u001b[0m         config(\u001b[38;5;124m\"\u001b[39m\u001b[38;5;124mspark.executor.memory\u001b[39m\u001b[38;5;124m\"\u001b[39m, \u001b[38;5;124m\"\u001b[39m\u001b[38;5;124m512m\u001b[39m\u001b[38;5;124m\"\u001b[39m)\u001b[38;5;241m.\u001b[39m\\\n\u001b[1;32m      9\u001b[0m         getOrCreate()\n",
      "File \u001b[0;32m/usr/local/lib/python3.9/dist-packages/pyspark/__init__.py:51\u001b[0m\n\u001b[1;32m     48\u001b[0m \u001b[38;5;28;01mimport\u001b[39;00m \u001b[38;5;21;01mtypes\u001b[39;00m\n\u001b[1;32m     50\u001b[0m \u001b[38;5;28;01mfrom\u001b[39;00m \u001b[38;5;21;01mpyspark\u001b[39;00m\u001b[38;5;21;01m.\u001b[39;00m\u001b[38;5;21;01mconf\u001b[39;00m \u001b[38;5;28;01mimport\u001b[39;00m SparkConf\n\u001b[0;32m---> 51\u001b[0m \u001b[38;5;28;01mfrom\u001b[39;00m \u001b[38;5;21;01mpyspark\u001b[39;00m\u001b[38;5;21;01m.\u001b[39;00m\u001b[38;5;21;01mcontext\u001b[39;00m \u001b[38;5;28;01mimport\u001b[39;00m SparkContext\n\u001b[1;32m     52\u001b[0m \u001b[38;5;28;01mfrom\u001b[39;00m \u001b[38;5;21;01mpyspark\u001b[39;00m\u001b[38;5;21;01m.\u001b[39;00m\u001b[38;5;21;01mrdd\u001b[39;00m \u001b[38;5;28;01mimport\u001b[39;00m RDD, RDDBarrier\n\u001b[1;32m     53\u001b[0m \u001b[38;5;28;01mfrom\u001b[39;00m \u001b[38;5;21;01mpyspark\u001b[39;00m\u001b[38;5;21;01m.\u001b[39;00m\u001b[38;5;21;01mfiles\u001b[39;00m \u001b[38;5;28;01mimport\u001b[39;00m SparkFiles\n",
      "File \u001b[0;32m/usr/local/lib/python3.9/dist-packages/pyspark/context.py:31\u001b[0m\n\u001b[1;32m     27\u001b[0m \u001b[38;5;28;01mfrom\u001b[39;00m \u001b[38;5;21;01mtempfile\u001b[39;00m \u001b[38;5;28;01mimport\u001b[39;00m NamedTemporaryFile\n\u001b[1;32m     29\u001b[0m \u001b[38;5;28;01mfrom\u001b[39;00m \u001b[38;5;21;01mpy4j\u001b[39;00m\u001b[38;5;21;01m.\u001b[39;00m\u001b[38;5;21;01mprotocol\u001b[39;00m \u001b[38;5;28;01mimport\u001b[39;00m Py4JError\n\u001b[0;32m---> 31\u001b[0m \u001b[38;5;28;01mfrom\u001b[39;00m \u001b[38;5;21;01mpyspark\u001b[39;00m \u001b[38;5;28;01mimport\u001b[39;00m accumulators\n\u001b[1;32m     32\u001b[0m \u001b[38;5;28;01mfrom\u001b[39;00m \u001b[38;5;21;01mpyspark\u001b[39;00m\u001b[38;5;21;01m.\u001b[39;00m\u001b[38;5;21;01maccumulators\u001b[39;00m \u001b[38;5;28;01mimport\u001b[39;00m Accumulator\n\u001b[1;32m     33\u001b[0m \u001b[38;5;28;01mfrom\u001b[39;00m \u001b[38;5;21;01mpyspark\u001b[39;00m\u001b[38;5;21;01m.\u001b[39;00m\u001b[38;5;21;01mbroadcast\u001b[39;00m \u001b[38;5;28;01mimport\u001b[39;00m Broadcast, BroadcastPickleRegistry\n",
      "File \u001b[0;32m/usr/local/lib/python3.9/dist-packages/pyspark/accumulators.py:97\u001b[0m\n\u001b[1;32m     95\u001b[0m     \u001b[38;5;28;01mimport\u001b[39;00m \u001b[38;5;21;01msocketserver\u001b[39;00m \u001b[38;5;28;01mas\u001b[39;00m \u001b[38;5;21;01mSocketServer\u001b[39;00m\n\u001b[1;32m     96\u001b[0m \u001b[38;5;28;01mimport\u001b[39;00m \u001b[38;5;21;01mthreading\u001b[39;00m\n\u001b[0;32m---> 97\u001b[0m \u001b[38;5;28;01mfrom\u001b[39;00m \u001b[38;5;21;01mpyspark\u001b[39;00m\u001b[38;5;21;01m.\u001b[39;00m\u001b[38;5;21;01mserializers\u001b[39;00m \u001b[38;5;28;01mimport\u001b[39;00m read_int, PickleSerializer\n\u001b[1;32m    100\u001b[0m __all__ \u001b[38;5;241m=\u001b[39m [\u001b[38;5;124m'\u001b[39m\u001b[38;5;124mAccumulator\u001b[39m\u001b[38;5;124m'\u001b[39m, \u001b[38;5;124m'\u001b[39m\u001b[38;5;124mAccumulatorParam\u001b[39m\u001b[38;5;124m'\u001b[39m]\n\u001b[1;32m    103\u001b[0m pickleSer \u001b[38;5;241m=\u001b[39m PickleSerializer()\n",
      "File \u001b[0;32m/usr/local/lib/python3.9/dist-packages/pyspark/serializers.py:72\u001b[0m\n\u001b[1;32m     69\u001b[0m     protocol \u001b[38;5;241m=\u001b[39m \u001b[38;5;241m3\u001b[39m\n\u001b[1;32m     70\u001b[0m     xrange \u001b[38;5;241m=\u001b[39m \u001b[38;5;28mrange\u001b[39m\n\u001b[0;32m---> 72\u001b[0m \u001b[38;5;28;01mfrom\u001b[39;00m \u001b[38;5;21;01mpyspark\u001b[39;00m \u001b[38;5;28;01mimport\u001b[39;00m cloudpickle\n\u001b[1;32m     73\u001b[0m \u001b[38;5;28;01mfrom\u001b[39;00m \u001b[38;5;21;01mpyspark\u001b[39;00m\u001b[38;5;21;01m.\u001b[39;00m\u001b[38;5;21;01mutil\u001b[39;00m \u001b[38;5;28;01mimport\u001b[39;00m _exception_message\n\u001b[1;32m     76\u001b[0m __all__ \u001b[38;5;241m=\u001b[39m [\u001b[38;5;124m\"\u001b[39m\u001b[38;5;124mPickleSerializer\u001b[39m\u001b[38;5;124m\"\u001b[39m, \u001b[38;5;124m\"\u001b[39m\u001b[38;5;124mMarshalSerializer\u001b[39m\u001b[38;5;124m\"\u001b[39m, \u001b[38;5;124m\"\u001b[39m\u001b[38;5;124mUTF8Deserializer\u001b[39m\u001b[38;5;124m\"\u001b[39m]\n",
      "File \u001b[0;32m/usr/local/lib/python3.9/dist-packages/pyspark/cloudpickle.py:145\u001b[0m\n\u001b[1;32m    125\u001b[0m     \u001b[38;5;28;01melse\u001b[39;00m:\n\u001b[1;32m    126\u001b[0m         \u001b[38;5;28;01mreturn\u001b[39;00m types\u001b[38;5;241m.\u001b[39mCodeType(\n\u001b[1;32m    127\u001b[0m             co\u001b[38;5;241m.\u001b[39mco_argcount,\n\u001b[1;32m    128\u001b[0m             co\u001b[38;5;241m.\u001b[39mco_kwonlyargcount,\n\u001b[0;32m   (...)\u001b[0m\n\u001b[1;32m    141\u001b[0m             (),\n\u001b[1;32m    142\u001b[0m         )\n\u001b[0;32m--> 145\u001b[0m _cell_set_template_code \u001b[38;5;241m=\u001b[39m \u001b[43m_make_cell_set_template_code\u001b[49m\u001b[43m(\u001b[49m\u001b[43m)\u001b[49m\n\u001b[1;32m    148\u001b[0m \u001b[38;5;28;01mdef\u001b[39;00m \u001b[38;5;21mcell_set\u001b[39m(cell, value):\n\u001b[1;32m    149\u001b[0m \u001b[38;5;250m    \u001b[39m\u001b[38;5;124;03m\"\"\"Set the value of a closure cell.\u001b[39;00m\n\u001b[1;32m    150\u001b[0m \u001b[38;5;124;03m    \"\"\"\u001b[39;00m\n",
      "File \u001b[0;32m/usr/local/lib/python3.9/dist-packages/pyspark/cloudpickle.py:126\u001b[0m, in \u001b[0;36m_make_cell_set_template_code\u001b[0;34m()\u001b[0m\n\u001b[1;32m    109\u001b[0m     \u001b[38;5;28;01mreturn\u001b[39;00m types\u001b[38;5;241m.\u001b[39mCodeType(\n\u001b[1;32m    110\u001b[0m         co\u001b[38;5;241m.\u001b[39mco_argcount,\n\u001b[1;32m    111\u001b[0m         co\u001b[38;5;241m.\u001b[39mco_nlocals,\n\u001b[0;32m   (...)\u001b[0m\n\u001b[1;32m    123\u001b[0m         (),\n\u001b[1;32m    124\u001b[0m     )\n\u001b[1;32m    125\u001b[0m \u001b[38;5;28;01melse\u001b[39;00m:\n\u001b[0;32m--> 126\u001b[0m     \u001b[38;5;28;01mreturn\u001b[39;00m \u001b[43mtypes\u001b[49m\u001b[38;5;241;43m.\u001b[39;49m\u001b[43mCodeType\u001b[49m\u001b[43m(\u001b[49m\n\u001b[1;32m    127\u001b[0m \u001b[43m        \u001b[49m\u001b[43mco\u001b[49m\u001b[38;5;241;43m.\u001b[39;49m\u001b[43mco_argcount\u001b[49m\u001b[43m,\u001b[49m\n\u001b[1;32m    128\u001b[0m \u001b[43m        \u001b[49m\u001b[43mco\u001b[49m\u001b[38;5;241;43m.\u001b[39;49m\u001b[43mco_kwonlyargcount\u001b[49m\u001b[43m,\u001b[49m\n\u001b[1;32m    129\u001b[0m \u001b[43m        \u001b[49m\u001b[43mco\u001b[49m\u001b[38;5;241;43m.\u001b[39;49m\u001b[43mco_nlocals\u001b[49m\u001b[43m,\u001b[49m\n\u001b[1;32m    130\u001b[0m \u001b[43m        \u001b[49m\u001b[43mco\u001b[49m\u001b[38;5;241;43m.\u001b[39;49m\u001b[43mco_stacksize\u001b[49m\u001b[43m,\u001b[49m\n\u001b[1;32m    131\u001b[0m \u001b[43m        \u001b[49m\u001b[43mco\u001b[49m\u001b[38;5;241;43m.\u001b[39;49m\u001b[43mco_flags\u001b[49m\u001b[43m,\u001b[49m\n\u001b[1;32m    132\u001b[0m \u001b[43m        \u001b[49m\u001b[43mco\u001b[49m\u001b[38;5;241;43m.\u001b[39;49m\u001b[43mco_code\u001b[49m\u001b[43m,\u001b[49m\n\u001b[1;32m    133\u001b[0m \u001b[43m        \u001b[49m\u001b[43mco\u001b[49m\u001b[38;5;241;43m.\u001b[39;49m\u001b[43mco_consts\u001b[49m\u001b[43m,\u001b[49m\n\u001b[1;32m    134\u001b[0m \u001b[43m        \u001b[49m\u001b[43mco\u001b[49m\u001b[38;5;241;43m.\u001b[39;49m\u001b[43mco_names\u001b[49m\u001b[43m,\u001b[49m\n\u001b[1;32m    135\u001b[0m \u001b[43m        \u001b[49m\u001b[43mco\u001b[49m\u001b[38;5;241;43m.\u001b[39;49m\u001b[43mco_varnames\u001b[49m\u001b[43m,\u001b[49m\n\u001b[1;32m    136\u001b[0m \u001b[43m        \u001b[49m\u001b[43mco\u001b[49m\u001b[38;5;241;43m.\u001b[39;49m\u001b[43mco_filename\u001b[49m\u001b[43m,\u001b[49m\n\u001b[1;32m    137\u001b[0m \u001b[43m        \u001b[49m\u001b[43mco\u001b[49m\u001b[38;5;241;43m.\u001b[39;49m\u001b[43mco_name\u001b[49m\u001b[43m,\u001b[49m\n\u001b[1;32m    138\u001b[0m \u001b[43m        \u001b[49m\u001b[43mco\u001b[49m\u001b[38;5;241;43m.\u001b[39;49m\u001b[43mco_firstlineno\u001b[49m\u001b[43m,\u001b[49m\n\u001b[1;32m    139\u001b[0m \u001b[43m        \u001b[49m\u001b[43mco\u001b[49m\u001b[38;5;241;43m.\u001b[39;49m\u001b[43mco_lnotab\u001b[49m\u001b[43m,\u001b[49m\n\u001b[1;32m    140\u001b[0m \u001b[43m        \u001b[49m\u001b[43mco\u001b[49m\u001b[38;5;241;43m.\u001b[39;49m\u001b[43mco_cellvars\u001b[49m\u001b[43m,\u001b[49m\u001b[43m  \u001b[49m\u001b[38;5;66;43;03m# this is the trickery\u001b[39;49;00m\n\u001b[1;32m    141\u001b[0m \u001b[43m        \u001b[49m\u001b[43m(\u001b[49m\u001b[43m)\u001b[49m\u001b[43m,\u001b[49m\n\u001b[1;32m    142\u001b[0m \u001b[43m    \u001b[49m\u001b[43m)\u001b[49m\n",
      "\u001b[0;31mTypeError\u001b[0m: an integer is required (got type bytes)"
     ]
    }
   ],
   "source": [
    "from pyspark.sql import SparkSession\n",
    "\n",
    "spark = SparkSession.\\\n",
    "        builder.\\\n",
    "        appName(\"pyspark-kafka-streaming\").\\\n",
    "        master(\"spark://spark-master:7077\").\\\n",
    "        config(\"spark.jars.packages\", \"org.apache.spark:spark-sql-kafka-0-10_2.12:3.0.0\"). \\\n",
    "        config(\"spark.executor.memory\", \"512m\").\\\n",
    "        getOrCreate()"
   ]
  },
  {
   "cell_type": "markdown",
   "metadata": {},
   "source": [
    "## ==== Q2 ===="
   ]
  },
  {
   "cell_type": "markdown",
   "metadata": {},
   "source": [
    "#### **Q2.1:** All your code for 2.1 should be in the following cell"
   ]
  },
  {
   "cell_type": "code",
   "execution_count": 2,
   "metadata": {},
   "outputs": [],
   "source": [
    "#Answer to 2.1\n",
    "df_streamed_raw = (spark\n",
    "  .readStream\n",
    "  .format(\"kafka\") \\\n",
    "  .option(\"kafka.bootstrap.servers\", \"kafka:9093\") \\\n",
    "  .option(\"subscribe\", \"topic_test1\") \\\n",
    "  .load())\n"
   ]
  },
  {
   "cell_type": "code",
   "execution_count": 3,
   "metadata": {},
   "outputs": [
    {
     "name": "stderr",
     "output_type": "stream",
     "text": [
      "23/04/12 16:25:59 WARN StreamingQueryManager: Temporary checkpoint location created which is deleted normally when the query didn't fail: /tmp/temporary-66229bb6-00a2-4e8e-8f04-969f38ef27ec. If it's required to delete it under any circumstances, please set spark.sql.streaming.forceDeleteTempCheckpointLocation to true. Important to know deleting temp checkpoint folder is best effort.\n"
     ]
    }
   ],
   "source": [
    "from pyspark.sql.types import StringType\n",
    "from pyspark.sql.functions import col\n",
    "\n",
    "# convert byte stream to string\n",
    "df_streamed_kv = (df_streamed_raw\n",
    "    .withColumn(\"key\", df_streamed_raw[\"key\"].cast(StringType()))\n",
    "    .withColumn(\"value\", df_streamed_raw[\"value\"].cast(StringType())))\n",
    "\n",
    "test_query = (df_streamed_kv \n",
    "              .writeStream \\\n",
    "              .format(\"memory\") # output to memory \\\n",
    "              .outputMode(\"update\") # only write updated rows to the sink \\\n",
    "              .queryName(\"test_query_table\")  # Name of the in memory table \\\n",
    "              .start())"
   ]
  },
  {
   "cell_type": "markdown",
   "metadata": {},
   "source": [
    "#### If all goes well, the following cell should display a table populated with values being streamed from you Kafka producer. NOTE: If you recently ran the producer, it may take a while before the table is populated. Keep rerunning the cell to check for updates:"
   ]
  },
  {
   "cell_type": "code",
   "execution_count": null,
   "metadata": {},
   "outputs": [],
   "source": [
    "spark.sql(\"select * from test_query_table\").show()"
   ]
  },
  {
   "cell_type": "code",
   "execution_count": null,
   "metadata": {},
   "outputs": [],
   "source": [
    "test_query.stop()"
   ]
  },
  {
   "cell_type": "markdown",
   "metadata": {},
   "source": [
    "#### The following cells contain code that take the streamed dataframe and formats it properly into a table. If any of the given cells fails, there might be a formatting issue with one of your previous solutions. "
   ]
  },
  {
   "cell_type": "code",
   "execution_count": 4,
   "metadata": {},
   "outputs": [],
   "source": [
    "from pyspark.sql.functions import from_json\n",
    "from pyspark.sql.types import StructType, StructField, BooleanType, LongType, IntegerType\n",
    "\n",
    "event_schema = StructType([\n",
    "    StructField(\"station\", StringType()),\n",
    "    StructField(\"valid\", StringType()),\n",
    "    StructField(\"tmpf\", StringType()),\n",
    "    StructField(\"dwpf\", StringType()),\n",
    "    StructField(\"relh\", StringType()),\n",
    "    StructField(\"feel\", StringType()),\n",
    "    StructField(\"drct\", StringType()),\n",
    "    StructField(\"sped\", StringType()),\n",
    "    StructField(\"alti\", StringType()),\n",
    "    StructField(\"mslp\", StringType()),\n",
    "    StructField(\"p01m\", StringType()),\n",
    "    StructField(\"vsby\", StringType()),\n",
    "    StructField(\"skyc1\", StringType()),\n",
    "    StructField(\"skyl1\", StringType()),\n",
    "    StructField(\"wxcodes\", StringType()),\n",
    "    StructField(\"ice_acceretion_1hr\", StringType()),\n",
    "])\n",
    "\n",
    "# Parse the events from JSON format\n",
    "df_parsed = (df_streamed_kv\n",
    "           # Sets schema for event data\n",
    "           .withColumn(\"value\", from_json(\"value\", event_schema))\n",
    "          )"
   ]
  },
  {
   "cell_type": "code",
   "execution_count": 5,
   "metadata": {},
   "outputs": [],
   "source": [
    "from pyspark.sql.functions import to_timestamp, unix_timestamp\n",
    "\n",
    "# Here, we need to convert date_time string to date_time object in the \"dd/MMM/yyyy:HH:mm:ss Z\" format.\n",
    "\n",
    "df_formatted = (df_parsed.select(\n",
    "    col(\"key\").alias(\"event_key\")\n",
    "    ,col(\"topic\").alias(\"event_topic\")\n",
    "    ,col(\"timestamp\").alias(\"event_timestamp\")\n",
    "    ,col(\"value.station\").alias(\"station\")\n",
    "#     ,col(\"value.valid\").alias(\"valid\")\n",
    "    ,to_timestamp(col(\"value.valid\"), \"yyyy-MM-dd HH:mm\").alias(\"valid\")\n",
    "    ,col(\"value.tmpf\").alias(\"tmpf\")\n",
    "    ,col(\"value.dwpf\").alias(\"dwpf\")\n",
    "    ,col(\"value.relh\").alias(\"relh\")\n",
    "    ,col(\"value.feel\").alias(\"feel\")\n",
    "    ,col(\"value.drct\").alias(\"drct\")\n",
    "    ,col(\"value.sped\").alias(\"sped\")\n",
    "    ,col(\"value.alti\").alias(\"alti\")\n",
    "    ,col(\"value.mslp\").alias(\"mslp\")\n",
    "    ,col(\"value.p01m\").alias(\"p01m\")\n",
    "    ,col(\"value.vsby\").alias(\"vsby\")\n",
    "    ,col(\"value.skyc1\").alias(\"skyc1\")\n",
    "    ,col(\"value.skyl1\").alias(\"skyl1\")\n",
    "    ,col(\"value.wxcodes\").alias(\"wxcodes\")\n",
    "    ,col(\"value.ice_acceretion_1hr\").alias(\"ice_acceretion_1hr\")\n",
    "#     cast(IntegerType()).\n",
    "))"
   ]
  },
  {
   "cell_type": "markdown",
   "metadata": {},
   "source": [
    "#### **Q2.2:** All your code for 2.2 should be in the following cell\n"
   ]
  },
  {
   "cell_type": "code",
   "execution_count": 6,
   "metadata": {},
   "outputs": [
    {
     "name": "stderr",
     "output_type": "stream",
     "text": [
      "23/04/12 16:26:02 WARN StreamingQueryManager: Temporary checkpoint location created which is deleted normally when the query didn't fail: /tmp/temporary-7f524734-f72b-49e3-aabe-804bc14480e8. If it's required to delete it under any circumstances, please set spark.sql.streaming.forceDeleteTempCheckpointLocation to true. Important to know deleting temp checkpoint folder is best effort.\n",
      "                                                                                \r"
     ]
    },
    {
     "name": "stdout",
     "output_type": "stream",
     "text": [
      "-------------------------------------------\n",
      "Batch: 0\n",
      "-------------------------------------------\n"
     ]
    },
    {
     "name": "stderr",
     "output_type": "stream",
     "text": [
      "[Stage 1:>                                                          (0 + 1) / 1]\r"
     ]
    },
    {
     "name": "stdout",
     "output_type": "stream",
     "text": [
      "+---------+-----------+---------------+-------+-----+----+----+----+----+----+----+----+----+----+----+-----+-----+-------+------------------+\n",
      "|event_key|event_topic|event_timestamp|station|valid|tmpf|dwpf|relh|feel|drct|sped|alti|mslp|p01m|vsby|skyc1|skyl1|wxcodes|ice_acceretion_1hr|\n",
      "+---------+-----------+---------------+-------+-----+----+----+----+----+----+----+----+----+----+----+-----+-----+-------+------------------+\n",
      "+---------+-----------+---------------+-------+-----+----+----+----+----+----+----+----+----+----+----+-----+-----+-------+------------------+\n",
      "\n"
     ]
    },
    {
     "name": "stderr",
     "output_type": "stream",
     "text": [
      "23/04/12 16:26:08 WARN ProcessingTimeExecutor: Current batch is falling behind. The trigger interval is 5000 milliseconds, but spent 6190 milliseconds\n",
      "                                                                                \r"
     ]
    }
   ],
   "source": [
    "# Answer to 2.2\n",
    "query = (df_formatted\n",
    "            .writeStream\n",
    "            .format(\"console\")\n",
    "            .trigger(processingTime='5 seconds')\n",
    "            .outputMode(\"append\")\n",
    "            .option(\"truncate\",'false')\n",
    "            .start()\n",
    "        )"
   ]
  },
  {
   "cell_type": "code",
   "execution_count": null,
   "metadata": {},
   "outputs": [],
   "source": [
    "# Print the name of active streams (This may be useful during debugging)\n",
    "for s in spark.streams.active:\n",
    "    print(f\"ID:{s.id} | NAME:{s.name}\")"
   ]
  },
  {
   "cell_type": "code",
   "execution_count": 7,
   "metadata": {},
   "outputs": [
    {
     "name": "stderr",
     "output_type": "stream",
     "text": [
      "23/04/12 16:26:15 ERROR WriteToDataSourceV2Exec: Data source write support org.apache.spark.sql.execution.streaming.sources.MicroBatchWrite@552debf2 is aborting.\n",
      "23/04/12 16:26:15 ERROR WriteToDataSourceV2Exec: Data source write support org.apache.spark.sql.execution.streaming.sources.MicroBatchWrite@552debf2 aborted.\n",
      "23/04/12 16:26:18 WARN TaskSetManager: Lost task 0.0 in stage 2.0 (TID 2, 172.18.0.6, executor 1): TaskKilled (Stage cancelled)\n",
      "                                                                                \r"
     ]
    }
   ],
   "source": [
    "query.stop()"
   ]
  },
  {
   "cell_type": "markdown",
   "metadata": {},
   "source": [
    "# ==== Project - Start your feature extraction queries from here ===="
   ]
  },
  {
   "cell_type": "markdown",
   "metadata": {},
   "source": [
    "### Day and Night temp calculation"
   ]
  },
  {
   "cell_type": "code",
   "execution_count": null,
   "metadata": {},
   "outputs": [],
   "source": [
    "from pyspark.sql.functions import *\n",
    "df_day = df_formatted.filter((hour(df_formatted.valid) >= 8) & (hour(df_formatted.valid) < 19))"
   ]
  },
  {
   "cell_type": "code",
   "execution_count": null,
   "metadata": {},
   "outputs": [],
   "source": [
    "from pyspark.sql.functions import col, date_add, to_date\n",
    "# Subtract 7 days from the current date to get the date 1 week ago\n",
    "one_week_ago = date_add(to_date(col(\"valid\"), \"yyyy-MM-dd HH:mm\"), -7)\n",
    "# Filter out the rows where the valid timestamp is one week old or older\n",
    "filtered_df = df_day.where(col(\"valid\").cast(\"date\") >= one_week_ago)"
   ]
  },
  {
   "cell_type": "code",
   "execution_count": null,
   "metadata": {},
   "outputs": [],
   "source": [
    "query1 = (filtered_df\n",
    "            .writeStream\n",
    "            .format(\"console\")\n",
    "            .trigger(processingTime='5 seconds')\n",
    "            .outputMode(\"append\")\n",
    "            .option(\"truncate\",'false')\n",
    "            .start()\n",
    "        )"
   ]
  },
  {
   "cell_type": "code",
   "execution_count": null,
   "metadata": {},
   "outputs": [],
   "source": [
    "query1.stop()"
   ]
  },
  {
   "cell_type": "code",
   "execution_count": null,
   "metadata": {},
   "outputs": [],
   "source": [
    "df_night=df_formatted.filter(\n",
    "    ((hour(df_formatted.valid) >= 19) & (hour(df_formatted.valid) <=23)) |\n",
    "    ((hour(df_formatted.valid) >= 0) & (hour(df_formatted.valid) < 8))\n",
    ")"
   ]
  },
  {
   "cell_type": "code",
   "execution_count": null,
   "metadata": {},
   "outputs": [],
   "source": [
    "from pyspark.sql.functions import col, date_add, to_date\n",
    "# Subtract 7 days from the current date to get the date 1 week ago\n",
    "one_week_ago = date_add(to_date(col(\"valid\"), \"yyyy-MM-dd HH:mm\"), -7)\n",
    "# Filter out the rows where the valid timestamp is one week old or older\n",
    "filtered_df1 = df_night.where(col(\"valid\").cast(\"date\") >= one_week_ago)"
   ]
  },
  {
   "cell_type": "code",
   "execution_count": null,
   "metadata": {},
   "outputs": [],
   "source": [
    "query2 = (filtered_df1\n",
    "            .writeStream\n",
    "            .format(\"console\")\n",
    "            .trigger(processingTime='5 seconds')\n",
    "            .outputMode(\"append\")\n",
    "            .option(\"truncate\",'false')\n",
    "            .start()\n",
    "        )"
   ]
  },
  {
   "cell_type": "code",
   "execution_count": null,
   "metadata": {},
   "outputs": [],
   "source": [
    "query2.stop()"
   ]
  },
  {
   "cell_type": "markdown",
   "metadata": {},
   "source": [
    "## Weekly"
   ]
  },
  {
   "cell_type": "code",
   "execution_count": null,
   "metadata": {},
   "outputs": [],
   "source": [
    "from pyspark.sql.functions import avg, col, window,stddev\n",
    "# assuming your input stream is named `input_stream`\n",
    "df_stream_day = (df_day\n",
    "   .withWatermark(\"valid\", \"7 days\")\\\n",
    "    .groupBy(\"station\", window(\"valid\", \"7 days\"))\\\n",
    "    .agg(avg(\"tmpf\").alias(\"avg_temp\"), stddev(\"tmpf\").alias(\"stddev_temp\")))\n"
   ]
  },
  {
   "cell_type": "code",
   "execution_count": null,
   "metadata": {},
   "outputs": [],
   "source": [
    "query_3 = df_stream_day\\\n",
    "    .writeStream\\\n",
    "    .format(\"console\")\\\n",
    "    .trigger(processingTime=\"10 seconds\")\\\n",
    "    .outputMode(\"complete\")\\\n",
    "    .option(\"truncate\", \"false\")\\\n",
    "    .start()"
   ]
  },
  {
   "cell_type": "code",
   "execution_count": null,
   "metadata": {},
   "outputs": [],
   "source": [
    "query_3.stop()"
   ]
  },
  {
   "cell_type": "code",
   "execution_count": null,
   "metadata": {},
   "outputs": [],
   "source": [
    "from pyspark.sql.functions import avg, col, window,stddev\n",
    "# assuming your input stream is named `input_stream`\n",
    "df_stream_night = (df_night\n",
    "   .withWatermark(\"valid\", \"15 minutes\")\\\n",
    "    .groupBy(\"station\", window(\"valid\", \"7 days\"))\\\n",
    "    .agg(avg(\"tmpf\").alias(\"avg_temp\"), stddev(\"tmpf\").alias(\"stddev_temp\")))\n"
   ]
  },
  {
   "cell_type": "code",
   "execution_count": null,
   "metadata": {},
   "outputs": [],
   "source": [
    "query_4 = df_stream_night\\\n",
    "    .writeStream\\\n",
    "    .format(\"console\")\\\n",
    "    .trigger(processingTime=\"10 seconds\")\\\n",
    "    .outputMode(\"complete\")\\\n",
    "    .option(\"truncate\", \"false\")\\\n",
    "    .start()"
   ]
  },
  {
   "cell_type": "code",
   "execution_count": null,
   "metadata": {},
   "outputs": [],
   "source": [
    "query_4.stop()"
   ]
  },
  {
   "cell_type": "code",
   "execution_count": null,
   "metadata": {},
   "outputs": [],
   "source": [
    "# df_day_night=df_stream_day.union(df_stream_night)"
   ]
  },
  {
   "cell_type": "code",
   "execution_count": null,
   "metadata": {},
   "outputs": [],
   "source": [
    "# query_day_night = df_day_night\\\n",
    "#     .writeStream\\\n",
    "#     .format(\"console\")\\\n",
    "#     .trigger(processingTime=\"10 seconds\")\\\n",
    "#     .outputMode(\"append\")\\\n",
    "#     .option(\"truncate\", \"false\")\\\n",
    "#     .start()"
   ]
  },
  {
   "cell_type": "code",
   "execution_count": null,
   "metadata": {},
   "outputs": [],
   "source": [
    "# query_day_night.stop()"
   ]
  },
  {
   "cell_type": "code",
   "execution_count": 9,
   "metadata": {},
   "outputs": [
    {
     "name": "stderr",
     "output_type": "stream",
     "text": [
      "23/04/12 16:26:39 WARN StreamingQueryManager: Temporary checkpoint location created which is deleted normally when the query didn't fail: /tmp/temporary-cece2d47-7ade-43db-b36b-239cbb2d6148. If it's required to delete it under any circumstances, please set spark.sql.streaming.forceDeleteTempCheckpointLocation to true. Important to know deleting temp checkpoint folder is best effort.\n",
      "[Stage 10:======>        (85 + 2) / 200][Stage 11:>                 (0 + 0) / 1]\r"
     ]
    }
   ],
   "source": [
    "#batch\n",
    "\n",
    "first_aggregation_query = df_stream.writeStream \\\n",
    "    .outputMode(\"complete\") \\\n",
    "    .format(\"memory\") \\\n",
    "    .queryName(\"first_aggregation\") \\\n",
    "    .trigger(processingTime=\"10 seconds\") \\\n",
    "    .start()"
   ]
  },
  {
   "cell_type": "code",
   "execution_count": 19,
   "metadata": {},
   "outputs": [
    {
     "name": "stderr",
     "output_type": "stream",
     "text": [
      "23/04/12 16:29:50 ERROR WriteToDataSourceV2Exec: Data source write support org.apache.spark.sql.execution.streaming.sources.MicroBatchWrite@64744448 is aborting.\n",
      "23/04/12 16:29:50 ERROR WriteToDataSourceV2Exec: Data source write support org.apache.spark.sql.execution.streaming.sources.MicroBatchWrite@64744448 aborted.\n",
      "23/04/12 16:29:50 WARN TaskSetManager: Lost task 39.0 in stage 61.0 (TID 2484, 172.18.0.6, executor 1): TaskKilled (Stage cancelled)\n",
      "23/04/12 16:29:50 WARN TaskSetManager: Lost task 38.0 in stage 61.0 (TID 2483, 172.18.0.7, executor 0): TaskKilled (Stage cancelled)\n",
      "[Stage 64:======>                                                (23 + 2) / 200]\r"
     ]
    }
   ],
   "source": [
    "#batch\n",
    "first_aggregation_query.stop()"
   ]
  },
  {
   "cell_type": "code",
   "execution_count": 24,
   "metadata": {
    "collapsed": true,
    "jupyter": {
     "outputs_hidden": true
    }
   },
   "outputs": [
    {
     "name": "stderr",
     "output_type": "stream",
     "text": [
      "                                                                                \r"
     ]
    },
    {
     "name": "stdout",
     "output_type": "stream",
     "text": [
      "-------------------------------------------\n",
      "Batch: 16\n",
      "-------------------------------------------\n",
      "+------------------------------------------+-------+-----------+\n",
      "|Window                                    |station|temperature|\n",
      "+------------------------------------------+-------+-----------+\n",
      "|[2013-01-01 06:00:00, 2013-01-01 08:00:00]|RUT    |30.2       |\n",
      "|[2013-01-01 06:00:00, 2013-01-01 08:00:00]|MVL    |30.2       |\n",
      "|[2013-01-01 06:00:00, 2013-01-01 08:00:00]|MVL    |30.2       |\n",
      "|[2013-01-01 04:00:00, 2013-01-01 06:00:00]|VSF    |33.08      |\n",
      "|[2013-01-01 04:00:00, 2013-01-01 06:00:00]|VSF    |33.1       |\n",
      "|[2013-01-01 06:00:00, 2013-01-01 08:00:00]|VSF    |33.8       |\n",
      "|[2013-01-01 04:00:00, 2013-01-01 06:00:00]|FSO    |30.2       |\n",
      "|[2013-01-01 04:00:00, 2013-01-01 06:00:00]|FSO    |29.7       |\n",
      "|[2013-01-01 04:00:00, 2013-01-01 06:00:00]|FSO    |30.4       |\n",
      "|[2013-01-01 04:00:00, 2013-01-01 06:00:00]|FSO    |31.3       |\n",
      "|[2013-01-01 03:00:00, 2013-01-01 05:00:00]|VSF    |33.08      |\n",
      "|[2013-01-01 05:00:00, 2013-01-01 07:00:00]|BTV    |30.0       |\n",
      "|[2013-01-01 05:00:00, 2013-01-01 07:00:00]|BTV    |30.2       |\n",
      "|[2013-01-01 04:00:00, 2013-01-01 06:00:00]|CDA    |23.54      |\n",
      "|[2013-01-01 04:00:00, 2013-01-01 06:00:00]|CDA    |24.1       |\n",
      "|[2013-01-01 04:00:00, 2013-01-01 06:00:00]|CDA    |24.8       |\n",
      "|[2013-01-01 04:00:00, 2013-01-01 06:00:00]|CDA    |25.0       |\n",
      "|[2013-01-01 03:00:00, 2013-01-01 05:00:00]|1V4    |26.06      |\n",
      "|[2013-01-01 04:00:00, 2013-01-01 06:00:00]|EFK    |28.94      |\n",
      "|[2013-01-01 04:00:00, 2013-01-01 06:00:00]|EFK    |28.2       |\n",
      "+------------------------------------------+-------+-----------+\n",
      "only showing top 20 rows\n",
      "\n"
     ]
    },
    {
     "name": "stderr",
     "output_type": "stream",
     "text": [
      "                                                                                \r"
     ]
    }
   ],
   "source": [
    "#batch\n",
    "first_aggregation_output = spark.sql(\"SELECT * FROM first_aggregation\")"
   ]
  },
  {
   "cell_type": "code",
   "execution_count": 8,
   "metadata": {},
   "outputs": [],
   "source": [
    "from pyspark.sql.functions import avg, col, window,stddev\n",
    "# assuming your input stream is named `input_stream`\n",
    "df_stream = (df_formatted\n",
    "    .groupBy(\"station\", window(\"valid\", \"7 days\", \"1 day\"))\\\n",
    "    .agg(avg(\"tmpf\").alias(\"avg_temp\"), stddev(\"tmpf\").alias(\"stddev_temp\")))"
   ]
  },
  {
   "cell_type": "code",
   "execution_count": null,
   "metadata": {},
   "outputs": [],
   "source": [
    "query_stream = df_stream\\\n",
    "    .writeStream\\\n",
    "    .format(\"console\")\\\n",
    "    .trigger(processingTime=\"10 seconds\")\\\n",
    "    .outputMode(\"update\")\\\n",
    "    .option(\"truncate\", \"false\")\\\n",
    "    .start()"
   ]
  },
  {
   "cell_type": "code",
   "execution_count": null,
   "metadata": {},
   "outputs": [],
   "source": [
    "query_stream.stop()"
   ]
  },
  {
   "cell_type": "markdown",
   "metadata": {},
   "source": [
    "## 2-hour Window "
   ]
  },
  {
   "cell_type": "code",
   "execution_count": 14,
   "metadata": {},
   "outputs": [
    {
     "name": "stderr",
     "output_type": "stream",
     "text": [
      "23/04/12 16:29:04 WARN ProcessingTimeExecutor: Current batch is falling behind. The trigger interval is 10000 milliseconds, but spent 11213 milliseconds\n",
      "23/04/12 16:29:15 WARN ProcessingTimeExecutor: Current batch is falling behind. The trigger interval is 10000 milliseconds, but spent 10351 milliseconds\n",
      "[Stage 50:=========>                                             (33 + 2) / 200]\r"
     ]
    }
   ],
   "source": [
    "from pyspark.sql.functions import *\n",
    "\n",
    "from pyspark.sql.functions import window\n",
    "df_windowed_2hrs = (df_formatted\n",
    "#     .withWatermark(\"valid\", \"30 minutes\")\n",
    "    .groupBy(\"station\", window(\"valid\", \"2 hours\",\"1 hour\"))\\\n",
    "    .agg(collect_list(\"tmpf\").alias(\"temp_list\")))"
   ]
  },
  {
   "cell_type": "code",
   "execution_count": 15,
   "metadata": {},
   "outputs": [
    {
     "name": "stderr",
     "output_type": "stream",
     "text": [
      "23/04/12 16:29:18 WARN StreamingQueryManager: Temporary checkpoint location created which is deleted normally when the query didn't fail: /tmp/temporary-71ff4c1b-4471-4dde-9d06-3821fb46d505. If it's required to delete it under any circumstances, please set spark.sql.streaming.forceDeleteTempCheckpointLocation to true. Important to know deleting temp checkpoint folder is best effort.\n",
      "[Stage 50:(119 + 2) / 200][Stage 51:>   (0 + 0) / 1][Stage 52:>   (0 + 0) / 1]1]\r"
     ]
    }
   ],
   "source": [
    "query_5=df_windowed_2hrs\\\n",
    "    .writeStream\\\n",
    "    .format(\"console\")\\\n",
    "    .trigger(processingTime=\"10 seconds\")\\\n",
    "    .outputMode(\"complete\")\\\n",
    "    .option(\"truncate\", \"false\")\\\n",
    "    .start()"
   ]
  },
  {
   "cell_type": "code",
   "execution_count": 16,
   "metadata": {},
   "outputs": [
    {
     "name": "stderr",
     "output_type": "stream",
     "text": [
      "23/04/12 16:29:23 ERROR WriteToDataSourceV2Exec: Data source write support org.apache.spark.sql.execution.streaming.sources.MicroBatchWrite@33ac857b is aborting.\n",
      "23/04/12 16:29:23 ERROR WriteToDataSourceV2Exec: Data source write support org.apache.spark.sql.execution.streaming.sources.MicroBatchWrite@33ac857b aborted.\n",
      "[Stage 50:=============>(192 + 2) / 200][Stage 51:>                 (0 + 0) / 1]\r"
     ]
    }
   ],
   "source": [
    "query_5.stop()"
   ]
  },
  {
   "cell_type": "code",
   "execution_count": 17,
   "metadata": {},
   "outputs": [
    {
     "name": "stderr",
     "output_type": "stream",
     "text": [
      "23/04/12 16:29:26 WARN ProcessingTimeExecutor: Current batch is falling behind. The trigger interval is 10000 milliseconds, but spent 11546 milliseconds\n"
     ]
    }
   ],
   "source": [
    "from pyspark.sql.functions import explode\n",
    "\n",
    "df_exploded = df_windowed_2hrs.select(\"Window\", \"station\", explode(\"temp_list\").alias(\"temperature\"))"
   ]
  },
  {
   "cell_type": "code",
   "execution_count": 35,
   "metadata": {},
   "outputs": [
    {
     "name": "stderr",
     "output_type": "stream",
     "text": [
      "[Stage 807:(160 + 2) / 200][Stage 809:>(0 + 0) / 200][Stage 810:>  (0 + 0) / 1]\r"
     ]
    }
   ],
   "source": [
    "df_exploded = df_exploded.withColumn(\"prev_week_start\", date_sub(\"window.start\", 7))\n",
    "df_exploded = df_exploded.withColumn(\"prev_week_end\", date_sub(\"window.start\", 1))"
   ]
  },
  {
   "cell_type": "code",
   "execution_count": 36,
   "metadata": {},
   "outputs": [
    {
     "name": "stderr",
     "output_type": "stream",
     "text": [
      "23/04/12 16:54:06 WARN StreamingQueryManager: Temporary checkpoint location created which is deleted normally when the query didn't fail: /tmp/temporary-f132deeb-e011-48c9-a891-c88325108b4a. If it's required to delete it under any circumstances, please set spark.sql.streaming.forceDeleteTempCheckpointLocation to true. Important to know deleting temp checkpoint folder is best effort.\n",
      "23/04/12 16:54:08 WARN ProcessingTimeExecutor: Current batch is falling behind. The trigger interval is 10000 milliseconds, but spent 17296 milliseconds\n"
     ]
    },
    {
     "name": "stdout",
     "output_type": "stream",
     "text": [
      "-------------------------------------------\n",
      "Batch: 35\n",
      "-------------------------------------------\n",
      "+------+-------+-----------+-------+------+--------+-----------+\n",
      "|Window|station|temperature|station|window|avg_temp|stddev_temp|\n",
      "+------+-------+-----------+-------+------+--------+-----------+\n",
      "+------+-------+-----------+-------+------+--------+-----------+\n",
      "\n"
     ]
    },
    {
     "name": "stderr",
     "output_type": "stream",
     "text": [
      "                                                                                \r"
     ]
    },
    {
     "name": "stdout",
     "output_type": "stream",
     "text": [
      "-------------------------------------------\n",
      "Batch: 69\n",
      "-------------------------------------------\n",
      "+------------------------------------------+-------+-----------+-------+------------------------------------------+--------+-----------+\n",
      "|Window                                    |station|temperature|station|window                                    |avg_temp|stddev_temp|\n",
      "+------------------------------------------+-------+-----------+-------+------------------------------------------+--------+-----------+\n",
      "|[2013-01-01 14:00:00, 2013-01-01 16:00:00]|VSF    |26.06      |VSF    |[2012-12-30 00:00:00, 2013-01-06 00:00:00]|32.0    |0.0        |\n",
      "|[2013-01-01 14:00:00, 2013-01-01 16:00:00]|VSF    |26.06      |VSF    |[2012-12-28 00:00:00, 2013-01-04 00:00:00]|32.0    |0.0        |\n",
      "|[2013-01-01 14:00:00, 2013-01-01 16:00:00]|VSF    |26.06      |VSF    |[2012-12-29 00:00:00, 2013-01-05 00:00:00]|32.0    |0.0        |\n",
      "|[2013-01-01 14:00:00, 2013-01-01 16:00:00]|VSF    |26.06      |VSF    |[2013-01-01 00:00:00, 2013-01-08 00:00:00]|32.0    |0.0        |\n",
      "|[2013-01-01 14:00:00, 2013-01-01 16:00:00]|VSF    |26.06      |VSF    |[2012-12-26 00:00:00, 2013-01-02 00:00:00]|32.0    |0.0        |\n",
      "|[2013-01-01 14:00:00, 2013-01-01 16:00:00]|VSF    |26.06      |VSF    |[2012-12-27 00:00:00, 2013-01-03 00:00:00]|32.0    |0.0        |\n",
      "|[2013-01-01 14:00:00, 2013-01-01 16:00:00]|VSF    |26.06      |VSF    |[2012-12-31 00:00:00, 2013-01-07 00:00:00]|32.0    |0.0        |\n",
      "|[2013-01-01 14:00:00, 2013-01-01 16:00:00]|VSF    |24.98      |VSF    |[2012-12-30 00:00:00, 2013-01-06 00:00:00]|32.0    |0.0        |\n",
      "|[2013-01-01 14:00:00, 2013-01-01 16:00:00]|VSF    |24.98      |VSF    |[2012-12-28 00:00:00, 2013-01-04 00:00:00]|32.0    |0.0        |\n",
      "|[2013-01-01 14:00:00, 2013-01-01 16:00:00]|VSF    |24.98      |VSF    |[2012-12-29 00:00:00, 2013-01-05 00:00:00]|32.0    |0.0        |\n",
      "|[2013-01-01 14:00:00, 2013-01-01 16:00:00]|VSF    |24.98      |VSF    |[2013-01-01 00:00:00, 2013-01-08 00:00:00]|32.0    |0.0        |\n",
      "|[2013-01-01 14:00:00, 2013-01-01 16:00:00]|VSF    |24.98      |VSF    |[2012-12-26 00:00:00, 2013-01-02 00:00:00]|32.0    |0.0        |\n",
      "|[2013-01-01 14:00:00, 2013-01-01 16:00:00]|VSF    |24.98      |VSF    |[2012-12-27 00:00:00, 2013-01-03 00:00:00]|32.0    |0.0        |\n",
      "|[2013-01-01 14:00:00, 2013-01-01 16:00:00]|VSF    |24.98      |VSF    |[2012-12-31 00:00:00, 2013-01-07 00:00:00]|32.0    |0.0        |\n",
      "|[2013-01-01 06:00:00, 2013-01-01 08:00:00]|RUT    |30.2       |RUT    |[2012-12-29 00:00:00, 2013-01-05 00:00:00]|30.2    |0.0        |\n",
      "|[2013-01-01 06:00:00, 2013-01-01 08:00:00]|RUT    |30.2       |RUT    |[2013-01-01 00:00:00, 2013-01-08 00:00:00]|30.2    |0.0        |\n",
      "|[2013-01-01 06:00:00, 2013-01-01 08:00:00]|RUT    |30.2       |RUT    |[2012-12-28 00:00:00, 2013-01-04 00:00:00]|30.2    |0.0        |\n",
      "|[2013-01-01 06:00:00, 2013-01-01 08:00:00]|RUT    |30.2       |RUT    |[2012-12-31 00:00:00, 2013-01-07 00:00:00]|30.2    |0.0        |\n",
      "|[2013-01-01 06:00:00, 2013-01-01 08:00:00]|RUT    |30.2       |RUT    |[2012-12-26 00:00:00, 2013-01-02 00:00:00]|30.2    |0.0        |\n",
      "|[2013-01-01 06:00:00, 2013-01-01 08:00:00]|RUT    |30.2       |RUT    |[2012-12-30 00:00:00, 2013-01-06 00:00:00]|30.2    |0.0        |\n",
      "+------------------------------------------+-------+-----------+-------+------------------------------------------+--------+-----------+\n",
      "only showing top 20 rows\n",
      "\n"
     ]
    },
    {
     "name": "stderr",
     "output_type": "stream",
     "text": [
      "23/04/12 16:54:15 WARN ProcessingTimeExecutor: Current batch is falling behind. The trigger interval is 10000 milliseconds, but spent 34262 milliseconds\n",
      "                                                                                \r"
     ]
    },
    {
     "name": "stdout",
     "output_type": "stream",
     "text": [
      "-------------------------------------------\n",
      "Batch: 96\n",
      "-------------------------------------------\n",
      "+------------------------------------------+-------+-----------+\n",
      "|Window                                    |station|temperature|\n",
      "+------------------------------------------+-------+-----------+\n",
      "|[2013-01-01 14:00:00, 2013-01-01 16:00:00]|VSF    |26.06      |\n",
      "|[2013-01-01 14:00:00, 2013-01-01 16:00:00]|VSF    |24.98      |\n",
      "|[2013-01-01 06:00:00, 2013-01-01 08:00:00]|RUT    |30.2       |\n",
      "|[2013-01-01 06:00:00, 2013-01-01 08:00:00]|RUT    |30.2       |\n",
      "|[2013-01-01 06:00:00, 2013-01-01 08:00:00]|RUT    |30.2       |\n",
      "|[2013-01-01 06:00:00, 2013-01-01 08:00:00]|RUT    |30.2       |\n",
      "|[2013-01-01 06:00:00, 2013-01-01 08:00:00]|RUT    |30.2       |\n",
      "|[2013-01-01 18:00:00, 2013-01-01 20:00:00]|EFK    |12.02      |\n",
      "|[2013-01-01 06:00:00, 2013-01-01 08:00:00]|MVL    |30.2       |\n",
      "|[2013-01-01 06:00:00, 2013-01-01 08:00:00]|MVL    |30.2       |\n",
      "|[2013-01-01 06:00:00, 2013-01-01 08:00:00]|MVL    |32.0       |\n",
      "|[2013-01-01 06:00:00, 2013-01-01 08:00:00]|MVL    |30.2       |\n",
      "|[2013-01-01 06:00:00, 2013-01-01 08:00:00]|MVL    |30.2       |\n",
      "|[2013-01-01 06:00:00, 2013-01-01 08:00:00]|MVL    |30.2       |\n",
      "|[2013-01-01 06:00:00, 2013-01-01 08:00:00]|MVL    |30.02      |\n",
      "|[2013-01-01 11:00:00, 2013-01-01 13:00:00]|DDH    |30.02      |\n",
      "|[2013-01-01 11:00:00, 2013-01-01 13:00:00]|DDH    |28.94      |\n",
      "|[2013-01-01 14:00:00, 2013-01-01 16:00:00]|MPV    |14.0       |\n",
      "|[2013-01-01 14:00:00, 2013-01-01 16:00:00]|MPV    |15.08      |\n",
      "|[2013-01-01 14:00:00, 2013-01-01 16:00:00]|MPV    |14.0       |\n",
      "+------------------------------------------+-------+-----------+\n",
      "only showing top 20 rows\n",
      "\n"
     ]
    },
    {
     "name": "stderr",
     "output_type": "stream",
     "text": [
      "23/04/12 16:54:23 WARN ProcessingTimeExecutor: Current batch is falling behind. The trigger interval is 10000 milliseconds, but spent 22779 milliseconds\n",
      "23/04/12 16:54:29 WARN ProcessingTimeExecutor: Current batch is falling behind. The trigger interval is 10000 milliseconds, but spent 22487 milliseconds\n"
     ]
    },
    {
     "name": "stdout",
     "output_type": "stream",
     "text": [
      "-------------------------------------------\n",
      "Batch: 0\n",
      "-------------------------------------------\n",
      "+------+-------+-----------+---------------+-------------+\n",
      "|Window|station|temperature|prev_week_start|prev_week_end|\n",
      "+------+-------+-----------+---------------+-------------+\n",
      "+------+-------+-----------+---------------+-------------+\n",
      "\n"
     ]
    },
    {
     "name": "stderr",
     "output_type": "stream",
     "text": [
      "                                                                                \r"
     ]
    },
    {
     "name": "stdout",
     "output_type": "stream",
     "text": [
      "-------------------------------------------\n",
      "Batch: 97\n",
      "-------------------------------------------\n",
      "+------------------------------------------+-------+-----------+\n",
      "|Window                                    |station|temperature|\n",
      "+------------------------------------------+-------+-----------+\n",
      "|[2013-01-01 14:00:00, 2013-01-01 16:00:00]|VSF    |26.06      |\n",
      "|[2013-01-01 14:00:00, 2013-01-01 16:00:00]|VSF    |24.98      |\n",
      "|[2013-01-01 06:00:00, 2013-01-01 08:00:00]|RUT    |30.2       |\n",
      "|[2013-01-01 06:00:00, 2013-01-01 08:00:00]|RUT    |30.2       |\n",
      "|[2013-01-01 06:00:00, 2013-01-01 08:00:00]|RUT    |30.2       |\n",
      "|[2013-01-01 06:00:00, 2013-01-01 08:00:00]|RUT    |30.2       |\n",
      "|[2013-01-01 06:00:00, 2013-01-01 08:00:00]|RUT    |30.2       |\n",
      "|[2013-01-01 18:00:00, 2013-01-01 20:00:00]|EFK    |12.02      |\n",
      "|[2013-01-01 18:00:00, 2013-01-01 20:00:00]|EFK    |12.2       |\n",
      "|[2013-01-01 06:00:00, 2013-01-01 08:00:00]|MVL    |30.2       |\n",
      "|[2013-01-01 06:00:00, 2013-01-01 08:00:00]|MVL    |30.2       |\n",
      "|[2013-01-01 06:00:00, 2013-01-01 08:00:00]|MVL    |32.0       |\n",
      "|[2013-01-01 06:00:00, 2013-01-01 08:00:00]|MVL    |30.2       |\n",
      "|[2013-01-01 06:00:00, 2013-01-01 08:00:00]|MVL    |30.2       |\n",
      "|[2013-01-01 06:00:00, 2013-01-01 08:00:00]|MVL    |30.2       |\n",
      "|[2013-01-01 06:00:00, 2013-01-01 08:00:00]|MVL    |30.02      |\n",
      "|[2013-01-01 11:00:00, 2013-01-01 13:00:00]|DDH    |30.02      |\n",
      "|[2013-01-01 11:00:00, 2013-01-01 13:00:00]|DDH    |28.94      |\n",
      "|[2013-01-01 14:00:00, 2013-01-01 16:00:00]|MPV    |14.0       |\n",
      "|[2013-01-01 14:00:00, 2013-01-01 16:00:00]|MPV    |15.08      |\n",
      "+------------------------------------------+-------+-----------+\n",
      "only showing top 20 rows\n",
      "\n"
     ]
    },
    {
     "name": "stderr",
     "output_type": "stream",
     "text": [
      "23/04/12 16:54:36 WARN ProcessingTimeExecutor: Current batch is falling behind. The trigger interval is 10000 milliseconds, but spent 13157 milliseconds\n",
      "[Stage 821:(173 + 2) / 200][Stage 823:>(0 + 0) / 200][Stage 824:>  (0 + 0) / 1]\r"
     ]
    }
   ],
   "source": [
    "query_6= (df_exploded\n",
    "            .writeStream\n",
    "            .outputMode(\"complete\")\n",
    "            .format(\"console\")\n",
    "            .option(\"truncate\",'false')\n",
    "            .trigger(processingTime=\"10 seconds\")\n",
    "            .start())"
   ]
  },
  {
   "cell_type": "code",
   "execution_count": 45,
   "metadata": {},
   "outputs": [
    {
     "name": "stderr",
     "output_type": "stream",
     "text": [
      "                                                                                \r"
     ]
    },
    {
     "name": "stdout",
     "output_type": "stream",
     "text": [
      "-------------------------------------------\n",
      "Batch: 1\n",
      "-------------------------------------------\n",
      "+------------------------------------------+-------+-----------+---------------+-------------+-------+------------------------------------------+--------+-------------------+-------------------+\n",
      "|Window                                    |station|temperature|prev_week_start|prev_week_end|station|window                                    |avg_temp|stddev_temp        |z_score            |\n",
      "+------------------------------------------+-------+-----------+---------------+-------------+-------+------------------------------------------+--------+-------------------+-------------------+\n",
      "|[2013-01-01 19:00:00, 2013-01-01 21:00:00]|CDA    |13.64      |2012-12-25     |2012-12-31   |CDA    |[2012-12-26 00:00:00, 2013-01-02 00:00:00]|23.252  |0.5489262245511686 |-17.510549815431542|\n",
      "|[2013-01-01 19:00:00, 2013-01-01 21:00:00]|CDA    |13.64      |2012-12-25     |2012-12-31   |CDA    |[2012-12-31 00:00:00, 2013-01-07 00:00:00]|23.252  |0.5489262245511686 |-17.510549815431542|\n",
      "|[2013-01-01 19:00:00, 2013-01-01 21:00:00]|CDA    |13.64      |2012-12-25     |2012-12-31   |CDA    |[2012-12-28 00:00:00, 2013-01-04 00:00:00]|23.252  |0.5489262245511686 |-17.510549815431542|\n",
      "|[2013-01-01 19:00:00, 2013-01-01 21:00:00]|CDA    |13.64      |2012-12-25     |2012-12-31   |CDA    |[2012-12-27 00:00:00, 2013-01-03 00:00:00]|23.252  |0.5489262245511686 |-17.510549815431542|\n",
      "|[2013-01-01 19:00:00, 2013-01-01 21:00:00]|CDA    |13.64      |2012-12-25     |2012-12-31   |CDA    |[2012-12-30 00:00:00, 2013-01-06 00:00:00]|23.252  |0.5489262245511686 |-17.510549815431542|\n",
      "|[2013-01-01 19:00:00, 2013-01-01 21:00:00]|CDA    |13.64      |2012-12-25     |2012-12-31   |CDA    |[2012-12-29 00:00:00, 2013-01-05 00:00:00]|23.252  |0.5489262245511686 |-17.510549815431542|\n",
      "|[2013-01-01 19:00:00, 2013-01-01 21:00:00]|CDA    |12.92      |2012-12-25     |2012-12-31   |CDA    |[2012-12-26 00:00:00, 2013-01-02 00:00:00]|23.252  |0.5489262245511686 |-18.82220148699945 |\n",
      "|[2013-01-01 19:00:00, 2013-01-01 21:00:00]|CDA    |12.92      |2012-12-25     |2012-12-31   |CDA    |[2012-12-31 00:00:00, 2013-01-07 00:00:00]|23.252  |0.5489262245511686 |-18.82220148699945 |\n",
      "|[2013-01-01 19:00:00, 2013-01-01 21:00:00]|CDA    |12.92      |2012-12-25     |2012-12-31   |CDA    |[2012-12-28 00:00:00, 2013-01-04 00:00:00]|23.252  |0.5489262245511686 |-18.82220148699945 |\n",
      "|[2013-01-01 19:00:00, 2013-01-01 21:00:00]|CDA    |12.92      |2012-12-25     |2012-12-31   |CDA    |[2012-12-27 00:00:00, 2013-01-03 00:00:00]|23.252  |0.5489262245511686 |-18.82220148699945 |\n",
      "|[2013-01-01 19:00:00, 2013-01-01 21:00:00]|CDA    |12.92      |2012-12-25     |2012-12-31   |CDA    |[2012-12-30 00:00:00, 2013-01-06 00:00:00]|23.252  |0.5489262245511686 |-18.82220148699945 |\n",
      "|[2013-01-01 19:00:00, 2013-01-01 21:00:00]|CDA    |12.92      |2012-12-25     |2012-12-31   |CDA    |[2012-12-29 00:00:00, 2013-01-05 00:00:00]|23.252  |0.5489262245511686 |-18.82220148699945 |\n",
      "|[2013-01-01 19:00:00, 2013-01-01 21:00:00]|CDA    |12.2       |2012-12-25     |2012-12-31   |CDA    |[2012-12-26 00:00:00, 2013-01-02 00:00:00]|23.252  |0.5489262245511686 |-20.13385315856736 |\n",
      "|[2013-01-01 19:00:00, 2013-01-01 21:00:00]|CDA    |12.2       |2012-12-25     |2012-12-31   |CDA    |[2012-12-31 00:00:00, 2013-01-07 00:00:00]|23.252  |0.5489262245511686 |-20.13385315856736 |\n",
      "|[2013-01-01 19:00:00, 2013-01-01 21:00:00]|CDA    |12.2       |2012-12-25     |2012-12-31   |CDA    |[2012-12-28 00:00:00, 2013-01-04 00:00:00]|23.252  |0.5489262245511686 |-20.13385315856736 |\n",
      "|[2013-01-01 19:00:00, 2013-01-01 21:00:00]|CDA    |12.2       |2012-12-25     |2012-12-31   |CDA    |[2012-12-27 00:00:00, 2013-01-03 00:00:00]|23.252  |0.5489262245511686 |-20.13385315856736 |\n",
      "|[2013-01-01 19:00:00, 2013-01-01 21:00:00]|CDA    |12.2       |2012-12-25     |2012-12-31   |CDA    |[2012-12-30 00:00:00, 2013-01-06 00:00:00]|23.252  |0.5489262245511686 |-20.13385315856736 |\n",
      "|[2013-01-01 19:00:00, 2013-01-01 21:00:00]|CDA    |12.2       |2012-12-25     |2012-12-31   |CDA    |[2012-12-29 00:00:00, 2013-01-05 00:00:00]|23.252  |0.5489262245511686 |-20.13385315856736 |\n",
      "|[2013-01-01 19:00:00, 2013-01-01 21:00:00]|MVL    |14.0       |2012-12-25     |2012-12-31   |MVL    |[2012-12-27 00:00:00, 2013-01-03 00:00:00]|30.14   |0.09295160030897816|-173.6387533549656 |\n",
      "|[2013-01-01 19:00:00, 2013-01-01 21:00:00]|MVL    |14.0       |2012-12-25     |2012-12-31   |MVL    |[2012-12-28 00:00:00, 2013-01-04 00:00:00]|30.14   |0.09295160030897816|-173.6387533549656 |\n",
      "+------------------------------------------+-------+-----------+---------------+-------------+-------+------------------------------------------+--------+-------------------+-------------------+\n",
      "only showing top 20 rows\n",
      "\n"
     ]
    },
    {
     "name": "stderr",
     "output_type": "stream",
     "text": [
      "23/04/12 16:58:18 WARN ProcessingTimeExecutor: Current batch is falling behind. The trigger interval is 10000 milliseconds, but spent 45014 milliseconds\n",
      "[Stage 918:(79 + 2) / 200][Stage 920:>  (0 + 0) / 1][Stage 921:>  (0 + 0) / 1]\r"
     ]
    }
   ],
   "source": [
    "query_6.stop()"
   ]
  },
  {
   "cell_type": "code",
   "execution_count": 38,
   "metadata": {},
   "outputs": [
    {
     "name": "stderr",
     "output_type": "stream",
     "text": [
      "23/04/12 16:55:27 WARN ProcessingTimeExecutor: Current batch is falling behind. The trigger interval is 10000 milliseconds, but spent 33517 milliseconds\n"
     ]
    },
    {
     "name": "stdout",
     "output_type": "stream",
     "text": [
      "-------------------------------------------\n",
      "Batch: 37\n",
      "-------------------------------------------\n",
      "+------+-------+-----------+-------+------+--------+-----------+\n",
      "|Window|station|temperature|station|window|avg_temp|stddev_temp|\n",
      "+------+-------+-----------+-------+------+--------+-----------+\n",
      "+------+-------+-----------+-------+------+--------+-----------+\n",
      "\n"
     ]
    },
    {
     "name": "stderr",
     "output_type": "stream",
     "text": [
      "[Stage 840:(83 + 2) / 200][Stage 842:>  (0 + 0) / 1][Stage 843:>  (0 + 0) / 1]\r"
     ]
    }
   ],
   "source": [
    "from pyspark.sql import functions as F\n",
    "\n",
    "comparison_df = df_exploded.join(\n",
    "    first_aggregation_output,\n",
    "    (df_exploded[\"station\"] == first_aggregation_output[\"station\"]) \n",
    "       & (first_aggregation_output[\"window.start\"] >= df_exploded[\"prev_week_start\"])\n",
    "    & (first_aggregation_output[\"window.start\"] <= df_exploded[\"prev_week_end\"])\n",
    ")"
   ]
  },
  {
   "cell_type": "code",
   "execution_count": 39,
   "metadata": {},
   "outputs": [
    {
     "name": "stderr",
     "output_type": "stream",
     "text": [
      "23/04/12 16:55:29 WARN StreamingQueryManager: Temporary checkpoint location created which is deleted normally when the query didn't fail: /tmp/temporary-67d776a3-d807-4d9d-bab4-f55030fe1b05. If it's required to delete it under any circumstances, please set spark.sql.streaming.forceDeleteTempCheckpointLocation to true. Important to know deleting temp checkpoint folder is best effort.\n",
      "[Stage 840:(199 + 1) / 200][Stage 844:>(7 + 1) / 200][Stage 846:>(0 + 0) / 200] \r"
     ]
    },
    {
     "name": "stdout",
     "output_type": "stream",
     "text": [
      "-------------------------------------------\n",
      "Batch: 99\n",
      "-------------------------------------------\n",
      "+------------------------------------------+-------+-----------+\n",
      "|Window                                    |station|temperature|\n",
      "+------------------------------------------+-------+-----------+\n",
      "|[2013-01-01 14:00:00, 2013-01-01 16:00:00]|VSF    |26.06      |\n",
      "|[2013-01-01 14:00:00, 2013-01-01 16:00:00]|VSF    |24.98      |\n",
      "|[2013-01-01 06:00:00, 2013-01-01 08:00:00]|RUT    |30.2       |\n",
      "|[2013-01-01 06:00:00, 2013-01-01 08:00:00]|RUT    |30.2       |\n",
      "|[2013-01-01 06:00:00, 2013-01-01 08:00:00]|RUT    |30.2       |\n",
      "|[2013-01-01 06:00:00, 2013-01-01 08:00:00]|RUT    |30.2       |\n",
      "|[2013-01-01 06:00:00, 2013-01-01 08:00:00]|RUT    |30.2       |\n",
      "|[2013-01-01 18:00:00, 2013-01-01 20:00:00]|EFK    |12.02      |\n",
      "|[2013-01-01 18:00:00, 2013-01-01 20:00:00]|EFK    |12.2       |\n",
      "|[2013-01-01 18:00:00, 2013-01-01 20:00:00]|VSF    |24.08      |\n",
      "|[2013-01-01 06:00:00, 2013-01-01 08:00:00]|MVL    |30.2       |\n",
      "|[2013-01-01 06:00:00, 2013-01-01 08:00:00]|MVL    |30.2       |\n",
      "|[2013-01-01 06:00:00, 2013-01-01 08:00:00]|MVL    |32.0       |\n",
      "|[2013-01-01 06:00:00, 2013-01-01 08:00:00]|MVL    |30.2       |\n",
      "|[2013-01-01 06:00:00, 2013-01-01 08:00:00]|MVL    |30.2       |\n",
      "|[2013-01-01 06:00:00, 2013-01-01 08:00:00]|MVL    |30.2       |\n",
      "|[2013-01-01 06:00:00, 2013-01-01 08:00:00]|MVL    |30.02      |\n",
      "|[2013-01-01 11:00:00, 2013-01-01 13:00:00]|DDH    |30.02      |\n",
      "|[2013-01-01 11:00:00, 2013-01-01 13:00:00]|DDH    |28.94      |\n",
      "|[2013-01-01 14:00:00, 2013-01-01 16:00:00]|MPV    |14.0       |\n",
      "+------------------------------------------+-------+-----------+\n",
      "only showing top 20 rows\n",
      "\n"
     ]
    },
    {
     "name": "stderr",
     "output_type": "stream",
     "text": [
      "23/04/12 16:55:34 WARN ProcessingTimeExecutor: Current batch is falling behind. The trigger interval is 10000 milliseconds, but spent 27108 milliseconds\n",
      "[Stage 844:(98 + 2) / 200][Stage 846:>(0 + 0) / 200][Stage 847:=> (1 + 0) / 2]\r"
     ]
    }
   ],
   "source": [
    "#batch\n",
    "\n",
    "comparison_query = comparison_df.writeStream \\\n",
    "    .outputMode(\"complete\") \\\n",
    "    .format(\"console\") \\\n",
    "    .option(\"truncate\", \"false\") \\\n",
    "    .trigger(processingTime=\"10 seconds\") \\\n",
    "    .start()"
   ]
  },
  {
   "cell_type": "code",
   "execution_count": 44,
   "metadata": {},
   "outputs": [
    {
     "name": "stderr",
     "output_type": "stream",
     "text": [
      "                                                                                \r"
     ]
    },
    {
     "name": "stdout",
     "output_type": "stream",
     "text": [
      "-------------------------------------------\n",
      "Batch: 105\n",
      "-------------------------------------------\n",
      "+------------------------------------------+-------+-----------+\n",
      "|Window                                    |station|temperature|\n",
      "+------------------------------------------+-------+-----------+\n",
      "|[2013-01-01 14:00:00, 2013-01-01 16:00:00]|VSF    |26.06      |\n",
      "|[2013-01-01 14:00:00, 2013-01-01 16:00:00]|VSF    |24.98      |\n",
      "|[2013-01-01 06:00:00, 2013-01-01 08:00:00]|RUT    |30.2       |\n",
      "|[2013-01-01 06:00:00, 2013-01-01 08:00:00]|RUT    |30.2       |\n",
      "|[2013-01-01 06:00:00, 2013-01-01 08:00:00]|RUT    |30.2       |\n",
      "|[2013-01-01 06:00:00, 2013-01-01 08:00:00]|RUT    |30.2       |\n",
      "|[2013-01-01 06:00:00, 2013-01-01 08:00:00]|RUT    |30.2       |\n",
      "|[2013-01-01 19:00:00, 2013-01-01 21:00:00]|CDA    |14.0       |\n",
      "|[2013-01-01 19:00:00, 2013-01-01 21:00:00]|CDA    |14.36      |\n",
      "|[2013-01-01 19:00:00, 2013-01-01 21:00:00]|CDA    |13.64      |\n",
      "|[2013-01-01 19:00:00, 2013-01-01 21:00:00]|CDA    |12.92      |\n",
      "|[2013-01-01 19:00:00, 2013-01-01 21:00:00]|CDA    |12.2       |\n",
      "|[2013-01-01 19:00:00, 2013-01-01 21:00:00]|BTV    |17.06      |\n",
      "|[2013-01-01 18:00:00, 2013-01-01 20:00:00]|EFK    |12.02      |\n",
      "|[2013-01-01 18:00:00, 2013-01-01 20:00:00]|EFK    |12.2       |\n",
      "|[2013-01-01 18:00:00, 2013-01-01 20:00:00]|EFK    |12.02      |\n",
      "|[2013-01-01 18:00:00, 2013-01-01 20:00:00]|EFK    |11.84      |\n",
      "|[2013-01-01 18:00:00, 2013-01-01 20:00:00]|EFK    |11.84      |\n",
      "|[2013-01-01 18:00:00, 2013-01-01 20:00:00]|EFK    |11.12      |\n",
      "|[2013-01-01 18:00:00, 2013-01-01 20:00:00]|VSF    |24.08      |\n",
      "+------------------------------------------+-------+-----------+\n",
      "only showing top 20 rows\n",
      "\n"
     ]
    },
    {
     "name": "stderr",
     "output_type": "stream",
     "text": [
      "23/04/12 16:58:10 WARN ProcessingTimeExecutor: Current batch is falling behind. The trigger interval is 10000 milliseconds, but spent 31019 milliseconds\n",
      "[Stage 915:(44 + 2) / 200][Stage 918:>(7 + 0) / 200][Stage 920:>  (0 + 0) / 1]  \r"
     ]
    }
   ],
   "source": [
    "comparison_query.stop()"
   ]
  },
  {
   "cell_type": "markdown",
   "metadata": {},
   "source": [
    "### z_score"
   ]
  },
  {
   "cell_type": "code",
   "execution_count": 41,
   "metadata": {},
   "outputs": [
    {
     "name": "stderr",
     "output_type": "stream",
     "text": [
      "                                                                                \r"
     ]
    },
    {
     "name": "stdout",
     "output_type": "stream",
     "text": [
      "-------------------------------------------\n",
      "Batch: 39\n",
      "-------------------------------------------\n",
      "+------+-------+-----------+-------+------+--------+-----------+\n",
      "|Window|station|temperature|station|window|avg_temp|stddev_temp|\n",
      "+------+-------+-----------+-------+------+--------+-----------+\n",
      "+------+-------+-----------+-------+------+--------+-----------+\n",
      "\n"
     ]
    },
    {
     "name": "stderr",
     "output_type": "stream",
     "text": [
      "23/04/12 16:56:29 WARN ProcessingTimeExecutor: Current batch is falling behind. The trigger interval is 10000 milliseconds, but spent 27920 milliseconds\n",
      "[Stage 869:(97 + 2) / 200][Stage 871:>  (0 + 0) / 1][Stage 873:>  (0 + 0) / 1]\r"
     ]
    }
   ],
   "source": [
    "df_with_zscore = comparison_df.withColumn('z_score', expr('(temperature - avg_temp) / stddev_temp'))"
   ]
  },
  {
   "cell_type": "code",
   "execution_count": 42,
   "metadata": {
    "collapsed": true,
    "jupyter": {
     "outputs_hidden": true
    }
   },
   "outputs": [
    {
     "name": "stderr",
     "output_type": "stream",
     "text": [
      "[Stage 869:(195 + 2) / 200][Stage 871:>  (0 + 0) / 1][Stage 873:>  (0 + 0) / 1]\r"
     ]
    },
    {
     "name": "stdout",
     "output_type": "stream",
     "text": [
      "-------------------------------------------\n",
      "Batch: 102\n",
      "-------------------------------------------\n",
      "+------------------------------------------+-------+-----------+\n",
      "|Window                                    |station|temperature|\n",
      "+------------------------------------------+-------+-----------+\n",
      "|[2013-01-01 14:00:00, 2013-01-01 16:00:00]|VSF    |26.06      |\n",
      "|[2013-01-01 14:00:00, 2013-01-01 16:00:00]|VSF    |24.98      |\n",
      "|[2013-01-01 06:00:00, 2013-01-01 08:00:00]|RUT    |30.2       |\n",
      "|[2013-01-01 06:00:00, 2013-01-01 08:00:00]|RUT    |30.2       |\n",
      "|[2013-01-01 06:00:00, 2013-01-01 08:00:00]|RUT    |30.2       |\n",
      "|[2013-01-01 06:00:00, 2013-01-01 08:00:00]|RUT    |30.2       |\n",
      "|[2013-01-01 06:00:00, 2013-01-01 08:00:00]|RUT    |30.2       |\n",
      "|[2013-01-01 19:00:00, 2013-01-01 21:00:00]|CDA    |14.0       |\n",
      "|[2013-01-01 19:00:00, 2013-01-01 21:00:00]|CDA    |14.36      |\n",
      "|[2013-01-01 18:00:00, 2013-01-01 20:00:00]|EFK    |12.02      |\n",
      "|[2013-01-01 18:00:00, 2013-01-01 20:00:00]|EFK    |12.2       |\n",
      "|[2013-01-01 18:00:00, 2013-01-01 20:00:00]|EFK    |12.02      |\n",
      "|[2013-01-01 18:00:00, 2013-01-01 20:00:00]|EFK    |11.84      |\n",
      "|[2013-01-01 18:00:00, 2013-01-01 20:00:00]|EFK    |11.84      |\n",
      "|[2013-01-01 18:00:00, 2013-01-01 20:00:00]|VSF    |24.08      |\n",
      "|[2013-01-01 18:00:00, 2013-01-01 20:00:00]|VSF    |21.92      |\n",
      "|[2013-01-01 19:00:00, 2013-01-01 21:00:00]|MVL    |14.0       |\n",
      "|[2013-01-01 06:00:00, 2013-01-01 08:00:00]|MVL    |30.2       |\n",
      "|[2013-01-01 06:00:00, 2013-01-01 08:00:00]|MVL    |30.2       |\n",
      "|[2013-01-01 06:00:00, 2013-01-01 08:00:00]|MVL    |32.0       |\n",
      "+------------------------------------------+-------+-----------+\n",
      "only showing top 20 rows\n",
      "\n"
     ]
    },
    {
     "name": "stderr",
     "output_type": "stream",
     "text": [
      "23/04/12 16:56:36 WARN ProcessingTimeExecutor: Current batch is falling behind. The trigger interval is 10000 milliseconds, but spent 21160 milliseconds\n"
     ]
    }
   ],
   "source": [
    "df_anomalous_requests = (df_with_zscore.filter(~isnan(col(\"z_score\")))\n",
    "                      .filter(\"z_score > 2 or z_score < -2\"))"
   ]
  },
  {
   "cell_type": "code",
   "execution_count": 43,
   "metadata": {
    "collapsed": true,
    "jupyter": {
     "outputs_hidden": true
    }
   },
   "outputs": [
    {
     "name": "stderr",
     "output_type": "stream",
     "text": [
      "23/04/12 16:56:37 WARN StreamingQueryManager: Temporary checkpoint location created which is deleted normally when the query didn't fail: /tmp/temporary-6b13bbb8-49f4-46fe-8e90-c7108d82b876. If it's required to delete it under any circumstances, please set spark.sql.streaming.forceDeleteTempCheckpointLocation to true. Important to know deleting temp checkpoint folder is best effort.\n",
      "                                                                                \r"
     ]
    },
    {
     "name": "stdout",
     "output_type": "stream",
     "text": [
      "-------------------------------------------\n",
      "Batch: 1\n",
      "-------------------------------------------\n",
      "+------------------------------------------+-------+-----------+---------------+-------------+-------+------------------------------------------+------------------+-------------------+\n",
      "|Window                                    |station|temperature|prev_week_start|prev_week_end|station|window                                    |avg_temp          |stddev_temp        |\n",
      "+------------------------------------------+-------+-----------+---------------+-------------+-------+------------------------------------------+------------------+-------------------+\n",
      "|[2013-01-01 19:00:00, 2013-01-01 21:00:00]|CDA    |14.0       |2012-12-25     |2012-12-31   |CDA    |[2012-12-26 00:00:00, 2013-01-02 00:00:00]|23.252            |0.5489262245511686 |\n",
      "|[2013-01-01 19:00:00, 2013-01-01 21:00:00]|CDA    |14.0       |2012-12-25     |2012-12-31   |CDA    |[2012-12-31 00:00:00, 2013-01-07 00:00:00]|23.252            |0.5489262245511686 |\n",
      "|[2013-01-01 19:00:00, 2013-01-01 21:00:00]|CDA    |14.0       |2012-12-25     |2012-12-31   |CDA    |[2012-12-28 00:00:00, 2013-01-04 00:00:00]|23.252            |0.5489262245511686 |\n",
      "|[2013-01-01 19:00:00, 2013-01-01 21:00:00]|CDA    |14.0       |2012-12-25     |2012-12-31   |CDA    |[2012-12-27 00:00:00, 2013-01-03 00:00:00]|23.252            |0.5489262245511686 |\n",
      "|[2013-01-01 19:00:00, 2013-01-01 21:00:00]|CDA    |14.0       |2012-12-25     |2012-12-31   |CDA    |[2012-12-30 00:00:00, 2013-01-06 00:00:00]|23.252            |0.5489262245511686 |\n",
      "|[2013-01-01 19:00:00, 2013-01-01 21:00:00]|CDA    |14.0       |2012-12-25     |2012-12-31   |CDA    |[2012-12-29 00:00:00, 2013-01-05 00:00:00]|23.252            |0.5489262245511686 |\n",
      "|[2013-01-01 19:00:00, 2013-01-01 21:00:00]|CDA    |14.36      |2012-12-25     |2012-12-31   |CDA    |[2012-12-26 00:00:00, 2013-01-02 00:00:00]|23.252            |0.5489262245511686 |\n",
      "|[2013-01-01 19:00:00, 2013-01-01 21:00:00]|CDA    |14.36      |2012-12-25     |2012-12-31   |CDA    |[2012-12-31 00:00:00, 2013-01-07 00:00:00]|23.252            |0.5489262245511686 |\n",
      "|[2013-01-01 19:00:00, 2013-01-01 21:00:00]|CDA    |14.36      |2012-12-25     |2012-12-31   |CDA    |[2012-12-28 00:00:00, 2013-01-04 00:00:00]|23.252            |0.5489262245511686 |\n",
      "|[2013-01-01 19:00:00, 2013-01-01 21:00:00]|CDA    |14.36      |2012-12-25     |2012-12-31   |CDA    |[2012-12-27 00:00:00, 2013-01-03 00:00:00]|23.252            |0.5489262245511686 |\n",
      "|[2013-01-01 19:00:00, 2013-01-01 21:00:00]|CDA    |14.36      |2012-12-25     |2012-12-31   |CDA    |[2012-12-30 00:00:00, 2013-01-06 00:00:00]|23.252            |0.5489262245511686 |\n",
      "|[2013-01-01 19:00:00, 2013-01-01 21:00:00]|CDA    |14.36      |2012-12-25     |2012-12-31   |CDA    |[2012-12-29 00:00:00, 2013-01-05 00:00:00]|23.252            |0.5489262245511686 |\n",
      "|[2013-01-01 18:00:00, 2013-01-01 20:00:00]|EFK    |11.84      |2012-12-25     |2012-12-31   |EFK    |[2012-12-31 00:00:00, 2013-01-07 00:00:00]|28.147999999999996|0.41439111959596653|\n",
      "|[2013-01-01 18:00:00, 2013-01-01 20:00:00]|EFK    |11.84      |2012-12-25     |2012-12-31   |EFK    |[2012-12-30 00:00:00, 2013-01-06 00:00:00]|28.147999999999996|0.41439111959596653|\n",
      "|[2013-01-01 18:00:00, 2013-01-01 20:00:00]|EFK    |11.84      |2012-12-25     |2012-12-31   |EFK    |[2012-12-27 00:00:00, 2013-01-03 00:00:00]|28.147999999999996|0.41439111959596653|\n",
      "|[2013-01-01 18:00:00, 2013-01-01 20:00:00]|EFK    |11.84      |2012-12-25     |2012-12-31   |EFK    |[2012-12-29 00:00:00, 2013-01-05 00:00:00]|28.147999999999996|0.41439111959596653|\n",
      "|[2013-01-01 18:00:00, 2013-01-01 20:00:00]|EFK    |11.84      |2012-12-25     |2012-12-31   |EFK    |[2012-12-26 00:00:00, 2013-01-02 00:00:00]|28.147999999999996|0.41439111959596653|\n",
      "|[2013-01-01 18:00:00, 2013-01-01 20:00:00]|EFK    |11.84      |2012-12-25     |2012-12-31   |EFK    |[2012-12-28 00:00:00, 2013-01-04 00:00:00]|28.147999999999996|0.41439111959596653|\n",
      "|[2013-01-01 18:00:00, 2013-01-01 20:00:00]|MPV    |12.92      |2012-12-25     |2012-12-31   |MPV    |[2012-12-29 00:00:00, 2013-01-05 00:00:00]|28.445            |0.37107950630559094|\n",
      "|[2013-01-01 18:00:00, 2013-01-01 20:00:00]|MPV    |12.92      |2012-12-25     |2012-12-31   |MPV    |[2012-12-27 00:00:00, 2013-01-03 00:00:00]|28.445            |0.37107950630559094|\n",
      "+------------------------------------------+-------+-----------+---------------+-------------+-------+------------------------------------------+------------------+-------------------+\n",
      "only showing top 20 rows\n",
      "\n"
     ]
    },
    {
     "name": "stderr",
     "output_type": "stream",
     "text": [
      "23/04/12 16:56:44 WARN ProcessingTimeExecutor: Current batch is falling behind. The trigger interval is 10000 milliseconds, but spent 35474 milliseconds\n",
      "                                                                                \r"
     ]
    },
    {
     "name": "stdout",
     "output_type": "stream",
     "text": [
      "-------------------------------------------\n",
      "Batch: 74\n",
      "-------------------------------------------\n"
     ]
    },
    {
     "name": "stderr",
     "output_type": "stream",
     "text": [
      "23/04/12 16:56:53 WARN ProcessingTimeExecutor: Current batch is falling behind. The trigger interval is 10000 milliseconds, but spent 30391 milliseconds\n",
      "[Stage 879:(14 + 2) / 200][Stage 882:>  (0 + 0) / 2][Stage 883:>  (0 + 0) / 2]\r"
     ]
    },
    {
     "name": "stdout",
     "output_type": "stream",
     "text": [
      "+------------------------------------------+-------+-----------+-------+------------------------------------------+--------+-----------+\n",
      "|Window                                    |station|temperature|station|window                                    |avg_temp|stddev_temp|\n",
      "+------------------------------------------+-------+-----------+-------+------------------------------------------+--------+-----------+\n",
      "|[2013-01-01 14:00:00, 2013-01-01 16:00:00]|VSF    |26.06      |VSF    |[2012-12-30 00:00:00, 2013-01-06 00:00:00]|32.0    |0.0        |\n",
      "|[2013-01-01 14:00:00, 2013-01-01 16:00:00]|VSF    |26.06      |VSF    |[2012-12-28 00:00:00, 2013-01-04 00:00:00]|32.0    |0.0        |\n",
      "|[2013-01-01 14:00:00, 2013-01-01 16:00:00]|VSF    |26.06      |VSF    |[2012-12-29 00:00:00, 2013-01-05 00:00:00]|32.0    |0.0        |\n",
      "|[2013-01-01 14:00:00, 2013-01-01 16:00:00]|VSF    |26.06      |VSF    |[2013-01-01 00:00:00, 2013-01-08 00:00:00]|32.0    |0.0        |\n",
      "|[2013-01-01 14:00:00, 2013-01-01 16:00:00]|VSF    |26.06      |VSF    |[2012-12-26 00:00:00, 2013-01-02 00:00:00]|32.0    |0.0        |\n",
      "|[2013-01-01 14:00:00, 2013-01-01 16:00:00]|VSF    |26.06      |VSF    |[2012-12-27 00:00:00, 2013-01-03 00:00:00]|32.0    |0.0        |\n",
      "|[2013-01-01 14:00:00, 2013-01-01 16:00:00]|VSF    |26.06      |VSF    |[2012-12-31 00:00:00, 2013-01-07 00:00:00]|32.0    |0.0        |\n",
      "|[2013-01-01 14:00:00, 2013-01-01 16:00:00]|VSF    |24.98      |VSF    |[2012-12-30 00:00:00, 2013-01-06 00:00:00]|32.0    |0.0        |\n",
      "|[2013-01-01 14:00:00, 2013-01-01 16:00:00]|VSF    |24.98      |VSF    |[2012-12-28 00:00:00, 2013-01-04 00:00:00]|32.0    |0.0        |\n",
      "|[2013-01-01 14:00:00, 2013-01-01 16:00:00]|VSF    |24.98      |VSF    |[2012-12-29 00:00:00, 2013-01-05 00:00:00]|32.0    |0.0        |\n",
      "|[2013-01-01 14:00:00, 2013-01-01 16:00:00]|VSF    |24.98      |VSF    |[2013-01-01 00:00:00, 2013-01-08 00:00:00]|32.0    |0.0        |\n",
      "|[2013-01-01 14:00:00, 2013-01-01 16:00:00]|VSF    |24.98      |VSF    |[2012-12-26 00:00:00, 2013-01-02 00:00:00]|32.0    |0.0        |\n",
      "|[2013-01-01 14:00:00, 2013-01-01 16:00:00]|VSF    |24.98      |VSF    |[2012-12-27 00:00:00, 2013-01-03 00:00:00]|32.0    |0.0        |\n",
      "|[2013-01-01 14:00:00, 2013-01-01 16:00:00]|VSF    |24.98      |VSF    |[2012-12-31 00:00:00, 2013-01-07 00:00:00]|32.0    |0.0        |\n",
      "|[2013-01-01 06:00:00, 2013-01-01 08:00:00]|RUT    |30.2       |RUT    |[2012-12-29 00:00:00, 2013-01-05 00:00:00]|30.2    |0.0        |\n",
      "|[2013-01-01 06:00:00, 2013-01-01 08:00:00]|RUT    |30.2       |RUT    |[2013-01-01 00:00:00, 2013-01-08 00:00:00]|30.2    |0.0        |\n",
      "|[2013-01-01 06:00:00, 2013-01-01 08:00:00]|RUT    |30.2       |RUT    |[2012-12-28 00:00:00, 2013-01-04 00:00:00]|30.2    |0.0        |\n",
      "|[2013-01-01 06:00:00, 2013-01-01 08:00:00]|RUT    |30.2       |RUT    |[2012-12-31 00:00:00, 2013-01-07 00:00:00]|30.2    |0.0        |\n",
      "|[2013-01-01 06:00:00, 2013-01-01 08:00:00]|RUT    |30.2       |RUT    |[2012-12-26 00:00:00, 2013-01-02 00:00:00]|30.2    |0.0        |\n",
      "|[2013-01-01 06:00:00, 2013-01-01 08:00:00]|RUT    |30.2       |RUT    |[2012-12-30 00:00:00, 2013-01-06 00:00:00]|30.2    |0.0        |\n",
      "+------------------------------------------+-------+-----------+-------+------------------------------------------+--------+-----------+\n",
      "only showing top 20 rows\n",
      "\n"
     ]
    },
    {
     "name": "stderr",
     "output_type": "stream",
     "text": [
      "23/04/12 16:56:58 WARN ProcessingTimeExecutor: Current batch is falling behind. The trigger interval is 10000 milliseconds, but spent 28721 milliseconds\n"
     ]
    },
    {
     "name": "stdout",
     "output_type": "stream",
     "text": [
      "-------------------------------------------\n",
      "Batch: 40\n",
      "-------------------------------------------\n",
      "+------+-------+-----------+-------+------+--------+-----------+\n",
      "|Window|station|temperature|station|window|avg_temp|stddev_temp|\n",
      "+------+-------+-----------+-------+------+--------+-----------+\n",
      "+------+-------+-----------+-------+------+--------+-----------+\n",
      "\n"
     ]
    },
    {
     "name": "stderr",
     "output_type": "stream",
     "text": [
      "                                                                                \r"
     ]
    },
    {
     "name": "stdout",
     "output_type": "stream",
     "text": [
      "-------------------------------------------\n",
      "Batch: 103\n",
      "-------------------------------------------\n",
      "+------------------------------------------+-------+-----------+\n",
      "|Window                                    |station|temperature|\n",
      "+------------------------------------------+-------+-----------+\n",
      "|[2013-01-01 14:00:00, 2013-01-01 16:00:00]|VSF    |26.06      |\n",
      "|[2013-01-01 14:00:00, 2013-01-01 16:00:00]|VSF    |24.98      |\n",
      "|[2013-01-01 06:00:00, 2013-01-01 08:00:00]|RUT    |30.2       |\n",
      "|[2013-01-01 06:00:00, 2013-01-01 08:00:00]|RUT    |30.2       |\n",
      "|[2013-01-01 06:00:00, 2013-01-01 08:00:00]|RUT    |30.2       |\n",
      "|[2013-01-01 06:00:00, 2013-01-01 08:00:00]|RUT    |30.2       |\n",
      "|[2013-01-01 06:00:00, 2013-01-01 08:00:00]|RUT    |30.2       |\n",
      "|[2013-01-01 19:00:00, 2013-01-01 21:00:00]|CDA    |14.0       |\n",
      "|[2013-01-01 19:00:00, 2013-01-01 21:00:00]|CDA    |14.36      |\n",
      "|[2013-01-01 19:00:00, 2013-01-01 21:00:00]|BTV    |17.06      |\n",
      "|[2013-01-01 18:00:00, 2013-01-01 20:00:00]|EFK    |12.02      |\n",
      "|[2013-01-01 18:00:00, 2013-01-01 20:00:00]|EFK    |12.2       |\n",
      "|[2013-01-01 18:00:00, 2013-01-01 20:00:00]|EFK    |12.02      |\n",
      "|[2013-01-01 18:00:00, 2013-01-01 20:00:00]|EFK    |11.84      |\n",
      "|[2013-01-01 18:00:00, 2013-01-01 20:00:00]|EFK    |11.84      |\n",
      "|[2013-01-01 18:00:00, 2013-01-01 20:00:00]|EFK    |11.12      |\n",
      "|[2013-01-01 18:00:00, 2013-01-01 20:00:00]|VSF    |24.08      |\n",
      "|[2013-01-01 18:00:00, 2013-01-01 20:00:00]|VSF    |21.92      |\n",
      "|[2013-01-01 19:00:00, 2013-01-01 21:00:00]|MVL    |14.0       |\n",
      "|[2013-01-01 06:00:00, 2013-01-01 08:00:00]|MVL    |30.2       |\n",
      "+------------------------------------------+-------+-----------+\n",
      "only showing top 20 rows\n",
      "\n"
     ]
    },
    {
     "name": "stderr",
     "output_type": "stream",
     "text": [
      "23/04/12 16:57:04 WARN ProcessingTimeExecutor: Current batch is falling behind. The trigger interval is 10000 milliseconds, but spent 27526 milliseconds\n",
      "                                                                                \r"
     ]
    },
    {
     "name": "stdout",
     "output_type": "stream",
     "text": [
      "-------------------------------------------\n",
      "Batch: 75\n",
      "-------------------------------------------\n",
      "+------------------------------------------+-------+-----------+-------+------------------------------------------+--------+-----------+\n",
      "|Window                                    |station|temperature|station|window                                    |avg_temp|stddev_temp|\n",
      "+------------------------------------------+-------+-----------+-------+------------------------------------------+--------+-----------+\n",
      "|[2013-01-01 14:00:00, 2013-01-01 16:00:00]|VSF    |26.06      |VSF    |[2012-12-30 00:00:00, 2013-01-06 00:00:00]|32.0    |0.0        |\n",
      "|[2013-01-01 14:00:00, 2013-01-01 16:00:00]|VSF    |26.06      |VSF    |[2012-12-28 00:00:00, 2013-01-04 00:00:00]|32.0    |0.0        |\n",
      "|[2013-01-01 14:00:00, 2013-01-01 16:00:00]|VSF    |26.06      |VSF    |[2012-12-29 00:00:00, 2013-01-05 00:00:00]|32.0    |0.0        |\n",
      "|[2013-01-01 14:00:00, 2013-01-01 16:00:00]|VSF    |26.06      |VSF    |[2013-01-01 00:00:00, 2013-01-08 00:00:00]|32.0    |0.0        |\n",
      "|[2013-01-01 14:00:00, 2013-01-01 16:00:00]|VSF    |26.06      |VSF    |[2012-12-26 00:00:00, 2013-01-02 00:00:00]|32.0    |0.0        |\n",
      "|[2013-01-01 14:00:00, 2013-01-01 16:00:00]|VSF    |26.06      |VSF    |[2012-12-27 00:00:00, 2013-01-03 00:00:00]|32.0    |0.0        |\n",
      "|[2013-01-01 14:00:00, 2013-01-01 16:00:00]|VSF    |26.06      |VSF    |[2012-12-31 00:00:00, 2013-01-07 00:00:00]|32.0    |0.0        |\n",
      "|[2013-01-01 14:00:00, 2013-01-01 16:00:00]|VSF    |24.98      |VSF    |[2012-12-30 00:00:00, 2013-01-06 00:00:00]|32.0    |0.0        |\n",
      "|[2013-01-01 14:00:00, 2013-01-01 16:00:00]|VSF    |24.98      |VSF    |[2012-12-28 00:00:00, 2013-01-04 00:00:00]|32.0    |0.0        |\n",
      "|[2013-01-01 14:00:00, 2013-01-01 16:00:00]|VSF    |24.98      |VSF    |[2012-12-29 00:00:00, 2013-01-05 00:00:00]|32.0    |0.0        |\n",
      "|[2013-01-01 14:00:00, 2013-01-01 16:00:00]|VSF    |24.98      |VSF    |[2013-01-01 00:00:00, 2013-01-08 00:00:00]|32.0    |0.0        |\n",
      "|[2013-01-01 14:00:00, 2013-01-01 16:00:00]|VSF    |24.98      |VSF    |[2012-12-26 00:00:00, 2013-01-02 00:00:00]|32.0    |0.0        |\n",
      "|[2013-01-01 14:00:00, 2013-01-01 16:00:00]|VSF    |24.98      |VSF    |[2012-12-27 00:00:00, 2013-01-03 00:00:00]|32.0    |0.0        |\n",
      "|[2013-01-01 14:00:00, 2013-01-01 16:00:00]|VSF    |24.98      |VSF    |[2012-12-31 00:00:00, 2013-01-07 00:00:00]|32.0    |0.0        |\n",
      "|[2013-01-01 06:00:00, 2013-01-01 08:00:00]|RUT    |30.2       |RUT    |[2012-12-29 00:00:00, 2013-01-05 00:00:00]|30.2    |0.0        |\n",
      "|[2013-01-01 06:00:00, 2013-01-01 08:00:00]|RUT    |30.2       |RUT    |[2013-01-01 00:00:00, 2013-01-08 00:00:00]|30.2    |0.0        |\n",
      "|[2013-01-01 06:00:00, 2013-01-01 08:00:00]|RUT    |30.2       |RUT    |[2012-12-28 00:00:00, 2013-01-04 00:00:00]|30.2    |0.0        |\n",
      "|[2013-01-01 06:00:00, 2013-01-01 08:00:00]|RUT    |30.2       |RUT    |[2012-12-31 00:00:00, 2013-01-07 00:00:00]|30.2    |0.0        |\n",
      "|[2013-01-01 06:00:00, 2013-01-01 08:00:00]|RUT    |30.2       |RUT    |[2012-12-26 00:00:00, 2013-01-02 00:00:00]|30.2    |0.0        |\n",
      "|[2013-01-01 06:00:00, 2013-01-01 08:00:00]|RUT    |30.2       |RUT    |[2012-12-30 00:00:00, 2013-01-06 00:00:00]|30.2    |0.0        |\n",
      "+------------------------------------------+-------+-----------+-------+------------------------------------------+--------+-----------+\n",
      "only showing top 20 rows\n",
      "\n"
     ]
    },
    {
     "name": "stderr",
     "output_type": "stream",
     "text": [
      "23/04/12 16:57:11 WARN ProcessingTimeExecutor: Current batch is falling behind. The trigger interval is 10000 milliseconds, but spent 18400 milliseconds\n",
      "23/04/12 16:57:18 WARN ProcessingTimeExecutor: Current batch is falling behind. The trigger interval is 10000 milliseconds, but spent 34124 milliseconds\n"
     ]
    },
    {
     "name": "stdout",
     "output_type": "stream",
     "text": [
      "-------------------------------------------\n",
      "Batch: 2\n",
      "-------------------------------------------\n",
      "+------------------------------------------+-------+-----------+---------------+-------------+-------+------------------------------------------+--------+-------------------+\n",
      "|Window                                    |station|temperature|prev_week_start|prev_week_end|station|window                                    |avg_temp|stddev_temp        |\n",
      "+------------------------------------------+-------+-----------+---------------+-------------+-------+------------------------------------------+--------+-------------------+\n",
      "|[2013-01-01 19:00:00, 2013-01-01 21:00:00]|CDA    |14.0       |2012-12-25     |2012-12-31   |CDA    |[2012-12-26 00:00:00, 2013-01-02 00:00:00]|23.252  |0.5489262245511686 |\n",
      "|[2013-01-01 19:00:00, 2013-01-01 21:00:00]|CDA    |14.0       |2012-12-25     |2012-12-31   |CDA    |[2012-12-31 00:00:00, 2013-01-07 00:00:00]|23.252  |0.5489262245511686 |\n",
      "|[2013-01-01 19:00:00, 2013-01-01 21:00:00]|CDA    |14.0       |2012-12-25     |2012-12-31   |CDA    |[2012-12-28 00:00:00, 2013-01-04 00:00:00]|23.252  |0.5489262245511686 |\n",
      "|[2013-01-01 19:00:00, 2013-01-01 21:00:00]|CDA    |14.0       |2012-12-25     |2012-12-31   |CDA    |[2012-12-27 00:00:00, 2013-01-03 00:00:00]|23.252  |0.5489262245511686 |\n",
      "|[2013-01-01 19:00:00, 2013-01-01 21:00:00]|CDA    |14.0       |2012-12-25     |2012-12-31   |CDA    |[2012-12-30 00:00:00, 2013-01-06 00:00:00]|23.252  |0.5489262245511686 |\n",
      "|[2013-01-01 19:00:00, 2013-01-01 21:00:00]|CDA    |14.0       |2012-12-25     |2012-12-31   |CDA    |[2012-12-29 00:00:00, 2013-01-05 00:00:00]|23.252  |0.5489262245511686 |\n",
      "|[2013-01-01 19:00:00, 2013-01-01 21:00:00]|CDA    |14.36      |2012-12-25     |2012-12-31   |CDA    |[2012-12-26 00:00:00, 2013-01-02 00:00:00]|23.252  |0.5489262245511686 |\n",
      "|[2013-01-01 19:00:00, 2013-01-01 21:00:00]|CDA    |14.36      |2012-12-25     |2012-12-31   |CDA    |[2012-12-31 00:00:00, 2013-01-07 00:00:00]|23.252  |0.5489262245511686 |\n",
      "|[2013-01-01 19:00:00, 2013-01-01 21:00:00]|CDA    |14.36      |2012-12-25     |2012-12-31   |CDA    |[2012-12-28 00:00:00, 2013-01-04 00:00:00]|23.252  |0.5489262245511686 |\n",
      "|[2013-01-01 19:00:00, 2013-01-01 21:00:00]|CDA    |14.36      |2012-12-25     |2012-12-31   |CDA    |[2012-12-27 00:00:00, 2013-01-03 00:00:00]|23.252  |0.5489262245511686 |\n",
      "|[2013-01-01 19:00:00, 2013-01-01 21:00:00]|CDA    |14.36      |2012-12-25     |2012-12-31   |CDA    |[2012-12-30 00:00:00, 2013-01-06 00:00:00]|23.252  |0.5489262245511686 |\n",
      "|[2013-01-01 19:00:00, 2013-01-01 21:00:00]|CDA    |14.36      |2012-12-25     |2012-12-31   |CDA    |[2012-12-29 00:00:00, 2013-01-05 00:00:00]|23.252  |0.5489262245511686 |\n",
      "|[2013-01-01 19:00:00, 2013-01-01 21:00:00]|CDA    |13.64      |2012-12-25     |2012-12-31   |CDA    |[2012-12-26 00:00:00, 2013-01-02 00:00:00]|23.252  |0.5489262245511686 |\n",
      "|[2013-01-01 19:00:00, 2013-01-01 21:00:00]|CDA    |13.64      |2012-12-25     |2012-12-31   |CDA    |[2012-12-31 00:00:00, 2013-01-07 00:00:00]|23.252  |0.5489262245511686 |\n",
      "|[2013-01-01 19:00:00, 2013-01-01 21:00:00]|CDA    |13.64      |2012-12-25     |2012-12-31   |CDA    |[2012-12-28 00:00:00, 2013-01-04 00:00:00]|23.252  |0.5489262245511686 |\n",
      "|[2013-01-01 19:00:00, 2013-01-01 21:00:00]|CDA    |13.64      |2012-12-25     |2012-12-31   |CDA    |[2012-12-27 00:00:00, 2013-01-03 00:00:00]|23.252  |0.5489262245511686 |\n",
      "|[2013-01-01 19:00:00, 2013-01-01 21:00:00]|CDA    |13.64      |2012-12-25     |2012-12-31   |CDA    |[2012-12-30 00:00:00, 2013-01-06 00:00:00]|23.252  |0.5489262245511686 |\n",
      "|[2013-01-01 19:00:00, 2013-01-01 21:00:00]|CDA    |13.64      |2012-12-25     |2012-12-31   |CDA    |[2012-12-29 00:00:00, 2013-01-05 00:00:00]|23.252  |0.5489262245511686 |\n",
      "|[2013-01-01 19:00:00, 2013-01-01 21:00:00]|BTV    |17.06      |2012-12-25     |2012-12-31   |BTV    |[2012-12-26 00:00:00, 2013-01-02 00:00:00]|30.11   |0.12727922061357835|\n",
      "|[2013-01-01 19:00:00, 2013-01-01 21:00:00]|BTV    |17.06      |2012-12-25     |2012-12-31   |BTV    |[2012-12-29 00:00:00, 2013-01-05 00:00:00]|30.11   |0.12727922061357835|\n",
      "+------------------------------------------+-------+-----------+---------------+-------------+-------+------------------------------------------+--------+-------------------+\n",
      "only showing top 20 rows\n",
      "\n"
     ]
    },
    {
     "name": "stderr",
     "output_type": "stream",
     "text": [
      "                                                                                \r"
     ]
    },
    {
     "name": "stdout",
     "output_type": "stream",
     "text": [
      "-------------------------------------------\n",
      "Batch: 41\n",
      "-------------------------------------------\n",
      "+------+-------+-----------+-------+------+--------+-----------+\n",
      "|Window|station|temperature|station|window|avg_temp|stddev_temp|\n",
      "+------+-------+-----------+-------+------+--------+-----------+\n",
      "+------+-------+-----------+-------+------+--------+-----------+\n",
      "\n"
     ]
    },
    {
     "name": "stderr",
     "output_type": "stream",
     "text": [
      "23/04/12 16:57:25 WARN ProcessingTimeExecutor: Current batch is falling behind. The trigger interval is 10000 milliseconds, but spent 26346 milliseconds\n",
      "[Stage 895:(194 + 2) / 200][Stage 896:>  (0 + 0) / 1][Stage 898:>  (0 + 0) / 2]\r"
     ]
    },
    {
     "name": "stdout",
     "output_type": "stream",
     "text": [
      "-------------------------------------------\n",
      "Batch: 0\n",
      "-------------------------------------------\n"
     ]
    },
    {
     "name": "stderr",
     "output_type": "stream",
     "text": [
      "                                                                                \r"
     ]
    },
    {
     "name": "stdout",
     "output_type": "stream",
     "text": [
      "+------+-------+-----------+---------------+-------------+-------+------+--------+-----------+-------+\n",
      "|Window|station|temperature|prev_week_start|prev_week_end|station|window|avg_temp|stddev_temp|z_score|\n",
      "+------+-------+-----------+---------------+-------------+-------+------+--------+-----------+-------+\n",
      "+------+-------+-----------+---------------+-------------+-------+------+--------+-----------+-------+\n",
      "\n"
     ]
    },
    {
     "name": "stderr",
     "output_type": "stream",
     "text": [
      "23/04/12 16:57:33 WARN ProcessingTimeExecutor: Current batch is falling behind. The trigger interval is 10000 milliseconds, but spent 55698 milliseconds\n",
      "23/04/12 16:57:39 WARN ProcessingTimeExecutor: Current batch is falling behind. The trigger interval is 10000 milliseconds, but spent 35428 milliseconds\n"
     ]
    },
    {
     "name": "stdout",
     "output_type": "stream",
     "text": [
      "-------------------------------------------\n",
      "Batch: 104\n",
      "-------------------------------------------\n",
      "+------------------------------------------+-------+-----------+\n",
      "|Window                                    |station|temperature|\n",
      "+------------------------------------------+-------+-----------+\n",
      "|[2013-01-01 14:00:00, 2013-01-01 16:00:00]|VSF    |26.06      |\n",
      "|[2013-01-01 14:00:00, 2013-01-01 16:00:00]|VSF    |24.98      |\n",
      "|[2013-01-01 06:00:00, 2013-01-01 08:00:00]|RUT    |30.2       |\n",
      "|[2013-01-01 06:00:00, 2013-01-01 08:00:00]|RUT    |30.2       |\n",
      "|[2013-01-01 06:00:00, 2013-01-01 08:00:00]|RUT    |30.2       |\n",
      "|[2013-01-01 06:00:00, 2013-01-01 08:00:00]|RUT    |30.2       |\n",
      "|[2013-01-01 06:00:00, 2013-01-01 08:00:00]|RUT    |30.2       |\n",
      "|[2013-01-01 19:00:00, 2013-01-01 21:00:00]|CDA    |14.0       |\n",
      "|[2013-01-01 19:00:00, 2013-01-01 21:00:00]|CDA    |14.36      |\n",
      "|[2013-01-01 19:00:00, 2013-01-01 21:00:00]|CDA    |13.64      |\n",
      "|[2013-01-01 19:00:00, 2013-01-01 21:00:00]|CDA    |12.92      |\n",
      "|[2013-01-01 19:00:00, 2013-01-01 21:00:00]|BTV    |17.06      |\n",
      "|[2013-01-01 18:00:00, 2013-01-01 20:00:00]|EFK    |12.02      |\n",
      "|[2013-01-01 18:00:00, 2013-01-01 20:00:00]|EFK    |12.2       |\n",
      "|[2013-01-01 18:00:00, 2013-01-01 20:00:00]|EFK    |12.02      |\n",
      "|[2013-01-01 18:00:00, 2013-01-01 20:00:00]|EFK    |11.84      |\n",
      "|[2013-01-01 18:00:00, 2013-01-01 20:00:00]|EFK    |11.84      |\n",
      "|[2013-01-01 18:00:00, 2013-01-01 20:00:00]|EFK    |11.12      |\n",
      "|[2013-01-01 18:00:00, 2013-01-01 20:00:00]|VSF    |24.08      |\n",
      "|[2013-01-01 18:00:00, 2013-01-01 20:00:00]|VSF    |21.92      |\n",
      "+------------------------------------------+-------+-----------+\n",
      "only showing top 20 rows\n",
      "\n"
     ]
    },
    {
     "name": "stderr",
     "output_type": "stream",
     "text": [
      "                                                                                \r"
     ]
    },
    {
     "name": "stdout",
     "output_type": "stream",
     "text": [
      "-------------------------------------------\n",
      "Batch: 76\n",
      "-------------------------------------------\n",
      "+------------------------------------------+-------+-----------+-------+------------------------------------------+--------+-----------+\n",
      "|Window                                    |station|temperature|station|window                                    |avg_temp|stddev_temp|\n",
      "+------------------------------------------+-------+-----------+-------+------------------------------------------+--------+-----------+\n",
      "|[2013-01-01 14:00:00, 2013-01-01 16:00:00]|VSF    |26.06      |VSF    |[2012-12-30 00:00:00, 2013-01-06 00:00:00]|32.0    |0.0        |\n",
      "|[2013-01-01 14:00:00, 2013-01-01 16:00:00]|VSF    |26.06      |VSF    |[2012-12-28 00:00:00, 2013-01-04 00:00:00]|32.0    |0.0        |\n",
      "|[2013-01-01 14:00:00, 2013-01-01 16:00:00]|VSF    |26.06      |VSF    |[2012-12-29 00:00:00, 2013-01-05 00:00:00]|32.0    |0.0        |\n",
      "|[2013-01-01 14:00:00, 2013-01-01 16:00:00]|VSF    |26.06      |VSF    |[2013-01-01 00:00:00, 2013-01-08 00:00:00]|32.0    |0.0        |\n",
      "|[2013-01-01 14:00:00, 2013-01-01 16:00:00]|VSF    |26.06      |VSF    |[2012-12-26 00:00:00, 2013-01-02 00:00:00]|32.0    |0.0        |\n",
      "|[2013-01-01 14:00:00, 2013-01-01 16:00:00]|VSF    |26.06      |VSF    |[2012-12-27 00:00:00, 2013-01-03 00:00:00]|32.0    |0.0        |\n",
      "|[2013-01-01 14:00:00, 2013-01-01 16:00:00]|VSF    |26.06      |VSF    |[2012-12-31 00:00:00, 2013-01-07 00:00:00]|32.0    |0.0        |\n",
      "|[2013-01-01 14:00:00, 2013-01-01 16:00:00]|VSF    |24.98      |VSF    |[2012-12-30 00:00:00, 2013-01-06 00:00:00]|32.0    |0.0        |\n",
      "|[2013-01-01 14:00:00, 2013-01-01 16:00:00]|VSF    |24.98      |VSF    |[2012-12-28 00:00:00, 2013-01-04 00:00:00]|32.0    |0.0        |\n",
      "|[2013-01-01 14:00:00, 2013-01-01 16:00:00]|VSF    |24.98      |VSF    |[2012-12-29 00:00:00, 2013-01-05 00:00:00]|32.0    |0.0        |\n",
      "|[2013-01-01 14:00:00, 2013-01-01 16:00:00]|VSF    |24.98      |VSF    |[2013-01-01 00:00:00, 2013-01-08 00:00:00]|32.0    |0.0        |\n",
      "|[2013-01-01 14:00:00, 2013-01-01 16:00:00]|VSF    |24.98      |VSF    |[2012-12-26 00:00:00, 2013-01-02 00:00:00]|32.0    |0.0        |\n",
      "|[2013-01-01 14:00:00, 2013-01-01 16:00:00]|VSF    |24.98      |VSF    |[2012-12-27 00:00:00, 2013-01-03 00:00:00]|32.0    |0.0        |\n",
      "|[2013-01-01 14:00:00, 2013-01-01 16:00:00]|VSF    |24.98      |VSF    |[2012-12-31 00:00:00, 2013-01-07 00:00:00]|32.0    |0.0        |\n",
      "|[2013-01-01 06:00:00, 2013-01-01 08:00:00]|RUT    |30.2       |RUT    |[2012-12-29 00:00:00, 2013-01-05 00:00:00]|30.2    |0.0        |\n",
      "|[2013-01-01 06:00:00, 2013-01-01 08:00:00]|RUT    |30.2       |RUT    |[2013-01-01 00:00:00, 2013-01-08 00:00:00]|30.2    |0.0        |\n",
      "|[2013-01-01 06:00:00, 2013-01-01 08:00:00]|RUT    |30.2       |RUT    |[2012-12-28 00:00:00, 2013-01-04 00:00:00]|30.2    |0.0        |\n",
      "|[2013-01-01 06:00:00, 2013-01-01 08:00:00]|RUT    |30.2       |RUT    |[2012-12-31 00:00:00, 2013-01-07 00:00:00]|30.2    |0.0        |\n",
      "|[2013-01-01 06:00:00, 2013-01-01 08:00:00]|RUT    |30.2       |RUT    |[2012-12-26 00:00:00, 2013-01-02 00:00:00]|30.2    |0.0        |\n",
      "|[2013-01-01 06:00:00, 2013-01-01 08:00:00]|RUT    |30.2       |RUT    |[2012-12-30 00:00:00, 2013-01-06 00:00:00]|30.2    |0.0        |\n",
      "+------------------------------------------+-------+-----------+-------+------------------------------------------+--------+-----------+\n",
      "only showing top 20 rows\n",
      "\n"
     ]
    },
    {
     "name": "stderr",
     "output_type": "stream",
     "text": [
      "23/04/12 16:57:49 WARN ProcessingTimeExecutor: Current batch is falling behind. The trigger interval is 10000 milliseconds, but spent 37547 milliseconds\n",
      "[Stage 905:(199 + 1) / 200][Stage 907:>(0 + 2) / 200][Stage 908:>  (0 + 0) / 1]\r"
     ]
    },
    {
     "name": "stdout",
     "output_type": "stream",
     "text": [
      "-------------------------------------------\n",
      "Batch: 3\n",
      "-------------------------------------------\n",
      "+------------------------------------------+-------+-----------+---------------+-------------+-------+------------------------------------------+--------+------------------+\n",
      "|Window                                    |station|temperature|prev_week_start|prev_week_end|station|window                                    |avg_temp|stddev_temp       |\n",
      "+------------------------------------------+-------+-----------+---------------+-------------+-------+------------------------------------------+--------+------------------+\n",
      "|[2013-01-01 19:00:00, 2013-01-01 21:00:00]|CDA    |14.0       |2012-12-25     |2012-12-31   |CDA    |[2012-12-26 00:00:00, 2013-01-02 00:00:00]|23.252  |0.5489262245511686|\n",
      "|[2013-01-01 19:00:00, 2013-01-01 21:00:00]|CDA    |14.0       |2012-12-25     |2012-12-31   |CDA    |[2012-12-31 00:00:00, 2013-01-07 00:00:00]|23.252  |0.5489262245511686|\n",
      "|[2013-01-01 19:00:00, 2013-01-01 21:00:00]|CDA    |14.0       |2012-12-25     |2012-12-31   |CDA    |[2012-12-28 00:00:00, 2013-01-04 00:00:00]|23.252  |0.5489262245511686|\n",
      "|[2013-01-01 19:00:00, 2013-01-01 21:00:00]|CDA    |14.0       |2012-12-25     |2012-12-31   |CDA    |[2012-12-27 00:00:00, 2013-01-03 00:00:00]|23.252  |0.5489262245511686|\n",
      "|[2013-01-01 19:00:00, 2013-01-01 21:00:00]|CDA    |14.0       |2012-12-25     |2012-12-31   |CDA    |[2012-12-30 00:00:00, 2013-01-06 00:00:00]|23.252  |0.5489262245511686|\n",
      "|[2013-01-01 19:00:00, 2013-01-01 21:00:00]|CDA    |14.0       |2012-12-25     |2012-12-31   |CDA    |[2012-12-29 00:00:00, 2013-01-05 00:00:00]|23.252  |0.5489262245511686|\n",
      "|[2013-01-01 19:00:00, 2013-01-01 21:00:00]|CDA    |14.36      |2012-12-25     |2012-12-31   |CDA    |[2012-12-26 00:00:00, 2013-01-02 00:00:00]|23.252  |0.5489262245511686|\n",
      "|[2013-01-01 19:00:00, 2013-01-01 21:00:00]|CDA    |14.36      |2012-12-25     |2012-12-31   |CDA    |[2012-12-31 00:00:00, 2013-01-07 00:00:00]|23.252  |0.5489262245511686|\n",
      "|[2013-01-01 19:00:00, 2013-01-01 21:00:00]|CDA    |14.36      |2012-12-25     |2012-12-31   |CDA    |[2012-12-28 00:00:00, 2013-01-04 00:00:00]|23.252  |0.5489262245511686|\n",
      "|[2013-01-01 19:00:00, 2013-01-01 21:00:00]|CDA    |14.36      |2012-12-25     |2012-12-31   |CDA    |[2012-12-27 00:00:00, 2013-01-03 00:00:00]|23.252  |0.5489262245511686|\n",
      "|[2013-01-01 19:00:00, 2013-01-01 21:00:00]|CDA    |14.36      |2012-12-25     |2012-12-31   |CDA    |[2012-12-30 00:00:00, 2013-01-06 00:00:00]|23.252  |0.5489262245511686|\n",
      "|[2013-01-01 19:00:00, 2013-01-01 21:00:00]|CDA    |14.36      |2012-12-25     |2012-12-31   |CDA    |[2012-12-29 00:00:00, 2013-01-05 00:00:00]|23.252  |0.5489262245511686|\n",
      "|[2013-01-01 19:00:00, 2013-01-01 21:00:00]|CDA    |13.64      |2012-12-25     |2012-12-31   |CDA    |[2012-12-26 00:00:00, 2013-01-02 00:00:00]|23.252  |0.5489262245511686|\n",
      "|[2013-01-01 19:00:00, 2013-01-01 21:00:00]|CDA    |13.64      |2012-12-25     |2012-12-31   |CDA    |[2012-12-31 00:00:00, 2013-01-07 00:00:00]|23.252  |0.5489262245511686|\n",
      "|[2013-01-01 19:00:00, 2013-01-01 21:00:00]|CDA    |13.64      |2012-12-25     |2012-12-31   |CDA    |[2012-12-28 00:00:00, 2013-01-04 00:00:00]|23.252  |0.5489262245511686|\n",
      "|[2013-01-01 19:00:00, 2013-01-01 21:00:00]|CDA    |13.64      |2012-12-25     |2012-12-31   |CDA    |[2012-12-27 00:00:00, 2013-01-03 00:00:00]|23.252  |0.5489262245511686|\n",
      "|[2013-01-01 19:00:00, 2013-01-01 21:00:00]|CDA    |13.64      |2012-12-25     |2012-12-31   |CDA    |[2012-12-30 00:00:00, 2013-01-06 00:00:00]|23.252  |0.5489262245511686|\n",
      "|[2013-01-01 19:00:00, 2013-01-01 21:00:00]|CDA    |13.64      |2012-12-25     |2012-12-31   |CDA    |[2012-12-29 00:00:00, 2013-01-05 00:00:00]|23.252  |0.5489262245511686|\n",
      "|[2013-01-01 19:00:00, 2013-01-01 21:00:00]|CDA    |12.92      |2012-12-25     |2012-12-31   |CDA    |[2012-12-26 00:00:00, 2013-01-02 00:00:00]|23.252  |0.5489262245511686|\n",
      "|[2013-01-01 19:00:00, 2013-01-01 21:00:00]|CDA    |12.92      |2012-12-25     |2012-12-31   |CDA    |[2012-12-31 00:00:00, 2013-01-07 00:00:00]|23.252  |0.5489262245511686|\n",
      "+------------------------------------------+-------+-----------+---------------+-------------+-------+------------------------------------------+--------+------------------+\n",
      "only showing top 20 rows\n",
      "\n"
     ]
    },
    {
     "name": "stderr",
     "output_type": "stream",
     "text": [
      "23/04/12 16:57:56 WARN ProcessingTimeExecutor: Current batch is falling behind. The trigger interval is 10000 milliseconds, but spent 38087 milliseconds\n",
      "                                                                                \r"
     ]
    },
    {
     "name": "stdout",
     "output_type": "stream",
     "text": [
      "-------------------------------------------\n",
      "Batch: 42\n",
      "-------------------------------------------\n",
      "+------+-------+-----------+-------+------+--------+-----------+\n",
      "|Window|station|temperature|station|window|avg_temp|stddev_temp|\n",
      "+------+-------+-----------+-------+------+--------+-----------+\n",
      "+------+-------+-----------+-------+------+--------+-----------+\n",
      "\n"
     ]
    },
    {
     "name": "stderr",
     "output_type": "stream",
     "text": [
      "23/04/12 16:58:03 WARN ProcessingTimeExecutor: Current batch is falling behind. The trigger interval is 10000 milliseconds, but spent 38957 milliseconds\n",
      "[Stage 911:(28 + 2) / 200][Stage 913:=> (1 + 0) / 2][Stage 914:>  (0 + 0) / 1]2]\r"
     ]
    }
   ],
   "source": [
    "final_query= (df_anomalous_requests\n",
    "            .writeStream\n",
    "            .outputMode(\"complete\")\n",
    "            .format(\"console\")\n",
    "            .option(\"truncate\",'false')\n",
    "            .trigger(processingTime=\"10 seconds\")\n",
    "            .start())"
   ]
  },
  {
   "cell_type": "code",
   "execution_count": null,
   "metadata": {},
   "outputs": [],
   "source": [
    "final_query.stop()"
   ]
  }
 ],
 "metadata": {
  "kernelspec": {
   "display_name": "Python 3 (ipykernel)",
   "language": "python",
   "name": "python3"
  },
  "language_info": {
   "codemirror_mode": {
    "name": "ipython",
    "version": 3
   },
   "file_extension": ".py",
   "mimetype": "text/x-python",
   "name": "python",
   "nbconvert_exporter": "python",
   "pygments_lexer": "ipython3",
   "version": "3.9.2"
  }
 },
 "nbformat": 4,
 "nbformat_minor": 4
}
